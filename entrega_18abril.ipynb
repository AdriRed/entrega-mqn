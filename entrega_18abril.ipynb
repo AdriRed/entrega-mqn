{
 "cells": [
  {
   "cell_type": "markdown",
   "id": "f4f0858a",
   "metadata": {},
   "source": [
    "# Assigment - Weakly interacting and confined bosons at low density\n",
    "\n",
    "### _Authors:_ Clàudia Garcia and Adrià Rojo\n",
    "\n",
    "L'equació de Gross-Pitaevskii (GP) ens permet descriure els experiments de condensats de Bose-Einstein dins del marc tèoric. \n",
    "\n",
    "En aquest exemple, considerem N àtoms de $^{87}$ Rb, on tots els àtoms estàn confinats per un camp magnètic, i tots els efectes d'aquest es descriuen bé per un potencial harmònic. També considerem que $\\Psi(\\vec{r})$ està normalitzat a la unitat. L'equació GP és la següent:\n",
    "\n",
    "$$\n",
    "\\left[-\\frac{1}{2} \\nabla^2+\\frac{1}{2} r_1^2+4 \\pi \\bar{a}_s N\\left|\\bar{\\Psi}\\left(\\vec{r}_1\\right)\\right|^2\\right] \\bar{\\Psi}\\left(\\vec{r}_1\\right)=\\bar{\\mu} \\bar{\\Psi}\\left(\\vec{r}_1\\right),\n",
    "$$\n",
    "\n",
    "on $\\mu$ és el potencial químic, $N$ el nombre de partícules i $\\bar{a}_s$ és la longitud de $s$-wave scattering. L'equació està escrita en unitats de oscil·lador harmònic.\n",
    "\n",
    "Començarem per precomputar valors de distància, imports, variables de la simulació i la funció d'ona inicial. Per la segona derivada utilitzarem la funció `gradient` de `numpy`. Utilitzarem tqdm per iterar el bucle i tenir una estimació del temps d'execució."
   ]
  },
  {
   "cell_type": "code",
   "execution_count": 3,
   "id": "63db98d5",
   "metadata": {},
   "outputs": [],
   "source": [
    "import numpy as np\n",
    "import numpy.typing as npt\n",
    "from tqdm import tqdm\n",
    "\n",
    "def second_derivative(fun: npt.ArrayLike, h: float) -> npt.ArrayLike:\n",
    "    first = np.gradient(fun, h)\n",
    "    return np.gradient(first, h)\n",
    "\n",
    "def final_properties(psi, local_mu, step, rs, r2s, interaction):\n",
    "    psi_dx2 = second_derivative(psi, step)\n",
    "\n",
    "    local_values = [\n",
    "        (r2*final*final, #acc radius\n",
    "            final*dx2, # kin energy\n",
    "            r2*final*final, # armonic\n",
    "            r2*(final/r)**4 if r != 0 else 0, # interaction energy\n",
    "            mu*final*final, # \n",
    "            r2/2 + interaction * (final/r)**2 if r != 0 else 0,\n",
    "            (final/r)**2 if r != 0 else 0\n",
    "        )\n",
    "        for r, r2, final, dx2, mu in zip(rs, r2s, psi, psi_dx2, local_mu)\n",
    "    ]\n",
    "\n",
    "    local_accumulted_radius, local_kinetic_energy, local_armonic_potential, local_interaction_energy, local_average_chem_potential, particle_potential, density =\\\n",
    "        zip(*local_values)\n",
    "\n",
    "    squared_radius = sum(local_accumulted_radius)*step\n",
    "    mean_squared_radius = np.sqrt(squared_radius)\n",
    "    average_chem_potential = sum(local_average_chem_potential)*step\n",
    "    kinetic_energy = -sum(local_kinetic_energy)*step/2\n",
    "    armonic_potential = sum(local_armonic_potential)*step/2\n",
    "    interaction_energy = sum(local_interaction_energy)*step*interaction/2\n",
    "\n",
    "    return {\n",
    "        \"r^2\": squared_radius,\n",
    "        \"<r^2>\": mean_squared_radius,\n",
    "        \"avg mu\": average_chem_potential,\n",
    "        \"kin energy\": kinetic_energy,\n",
    "        \"armonic pot\" : armonic_potential,\n",
    "        \"interac energy\": interaction_energy\n",
    "    }\n",
    "\n",
    "def initial_values(scattering_length, width, step, atom_numbers, alpha, cvar):\n",
    "    alpha2 = alpha*alpha\n",
    "    cvar = 2 * np.power(alpha, 3/2)/ np.power(np.pi, 1/4)\n",
    "    rs = np.array([i * step for i in range(width)])\n",
    "    r2s = rs**2\n",
    "    psi = np.array([cvar*r*np.exp(-0.5*alpha2*r2) for (r, r2) in zip(rs, r2s)])\n",
    "    return alpha2, cvar, scattering_length*atom_numbers, atom_numbers*scattering_length*scattering_length*scattering_length,\\\n",
    "        rs, r2s, psi\n",
    "    \n",
    "def compute_wavelength(psi, iterations, step, interaction, time_step):\n",
    "    psi_curr = psi\n",
    "    for i in tqdm(range(iterations)):\n",
    "        psi_dx2 = second_derivative(psi_curr, step)\n",
    "        # calculo de energia y mu local\n",
    "        local_energy_mu = [(-(curr*dx2+r2*curr**2+interaction*r2*(curr/r)**4)/2 if r != 0 else 0, \n",
    "                            ((-dx2/curr) + r2 + interaction*(curr/r)**2)/2 if r != 0 else 0)\n",
    "                        for r, r2, curr, dx2 in zip(rs, r2s, psi_curr, psi_dx2)]\n",
    "        # deshacer la lista de tuplas (energía y mu de cada distancia) \n",
    "        # en una tupla de listas (lista de todas las energías y lista de todas las mus)\n",
    "        local_energy, local_mu = zip(*local_energy_mu)\n",
    "        energy = sum(local_energy)*step\n",
    "        psi_next = [curr*(1 - time_step*mu) for curr, mu in zip(psi_curr, local_mu)]\n",
    "        normalization_const = np.sqrt(sum(next*next for next in psi_next)*step)\n",
    "        psi_curr = np.array(psi_next)/normalization_const\n",
    "    \n",
    "    return (psi_curr, local_mu)"
   ]
  },
  {
   "cell_type": "markdown",
   "id": "e5a92154",
   "metadata": {},
   "source": [
    "### a0) Terme d'interacció nul.\n",
    "\n",
    "Si considerem el terme d'interacció nul (en el nostre programa la variable `interaction`), l'equació GP queda com: \n",
    "\n",
    "$$\n",
    "\\left[-\\frac{1}{2} \\nabla^2+\\frac{1}{2} r_1^2\\right] \\bar{\\Psi}\\left(\\vec{r}_1\\right)=\\bar{\\mu} \\bar{\\Psi}\\left(\\vec{r}_1\\right),\n",
    "$$\n",
    "\n",
    "Que com veiem\n",
    "$\n",
    "H_{o.h} = -\\frac{1}{2} \\nabla^2+\\frac{1}{2} r_1^2,\n",
    "$\n",
    " coincideix amb l'expressió de l'hamiltonià de l'oscil·lador harmònic en tres dimensions, per tant, tenim que: \n",
    "$H_{o.h} \\bar{\\Psi}\\left(\\vec{r}_1\\right) = \\varepsilon \\bar{\\Psi}\\left(\\vec{r}_1\\right)$ i comparant ambdós equacions obtenim que $\\bar{\\mu} = \\varepsilon$, és a dir, el potencial químic coincideix amb l'energia per partícula ($ \\varepsilon = E/N$)."
   ]
  },
  {
   "cell_type": "code",
   "execution_count": null,
   "id": "2817fb84",
   "metadata": {},
   "outputs": [],
   "source": []
  },
  {
   "cell_type": "markdown",
   "id": "6bf4cbc4",
   "metadata": {},
   "source": []
  },
  {
   "cell_type": "markdown",
   "id": "10c893de",
   "metadata": {},
   "source": [
    "### a) Resolució de l'equació GP per a diferents $N$\n",
    "\n",
    "Utilizant $\\bar{a}_s = 0.00433$ resolem l'equació GP per diferents nombres de partícules ($N$) i obtenim els següents resultats per $\\mu$ i les següents energies per partícules: total, cinètica, de l'oscil·lador harmònic i d'interacció.\n",
    "\n"
   ]
  },
  {
   "cell_type": "code",
   "execution_count": null,
   "id": "752f6f99",
   "metadata": {},
   "outputs": [],
   "source": []
  },
  {
   "cell_type": "markdown",
   "id": "0e146349",
   "metadata": {},
   "source": [
    "| $N$   | $\\bar{\\mu}$ | $\\varepsilon$ | $\\varepsilon_{kin}$ | $\\varepsilon_{o.h}$ | $\\varepsilon_{int}$ |\n",
    "|:-----:|:-----------:|:---:|:---------:|:---------:|:---------:|\n",
    "|100    |             |     |\n",
    "|1000   |\n",
    "|10000  |\n",
    "|100000 |\n",
    "|1000000|\n",
    "\n",
    "comment their behaviour..."
   ]
  },
  {
   "cell_type": "markdown",
   "id": "8c70c722",
   "metadata": {},
   "source": [
    "### b) Aproximació de Thomas-Fermi.\n",
    " En el marc d'aquesta aproximació el terme cinètic es pot considerar nul i l'equació GP queda com: \n",
    "\n",
    "$$\n",
    "\\left[\\frac{1}{2} r_1^2+4 \\pi \\bar{a}_s N\\left|\\bar{\\Psi}\\left(\\vec{r}_1\\right)\\right|^2\\right] \\bar{\\Psi}\\left(\\vec{r}_1\\right)=\\bar{\\mu} \\bar{\\Psi}\\left(\\vec{r}_1\\right)\n",
    "$$\n"
   ]
  },
  {
   "cell_type": "code",
   "execution_count": null,
   "id": "c0efd47c",
   "metadata": {},
   "outputs": [],
   "source": []
  },
  {
   "cell_type": "markdown",
   "id": "7f4c4191",
   "metadata": {},
   "source": [
    "| $N$   | $\\bar{\\mu}$ | $\\varepsilon$ | $\\varepsilon_{kin}$ | $\\varepsilon_{o.h}$ | $\\varepsilon_{int}$ |\n",
    "|:-----:|:-----------:|:-------------:|:-------------------:|:-------------------:|:------------------:|\n",
    "|100    |             |     |\n",
    "|1000   |\n",
    "|10000  |\n",
    "|100000 |\n",
    "|1000000|\n",
    "\n",
    "comment their behaviour..."
   ]
  },
  {
   "cell_type": "markdown",
   "id": "eb2db83f",
   "metadata": {},
   "source": [
    "### c) Plots de la de densitat $\\rho(r_1)$ per $N = 1000$ i $N = 100000$. \n",
    "\n",
    "Compararem els resultats per l'equació GP i per aquesta en l'aproximació de TF. \n",
    "\n",
    "La densitat $\\rho(r_1)$ està normalitzada com: $\\int dr_1 r_1^2 \\rho(r_1)$\n",
    "\n",
    "En el cas de l'aproximació TF tenim la següent expressió per la densitat: \n",
    "$$\n",
    "\\rho(r_1) = \\frac{1}{4 \\pi N \\bar{a}_s} \\cdot \\left( \\bar{\\mu} - \\frac{1}{2}r_1^2 \\right)\n",
    "$$"
   ]
  },
  {
   "cell_type": "code",
   "execution_count": null,
   "id": "06ec06f6",
   "metadata": {},
   "outputs": [],
   "source": []
  },
  {
   "cell_type": "markdown",
   "id": "b0c406c6",
   "metadata": {},
   "source": [
    "### d) Teorema del Virial per diferents valors de $N$\n",
    "\n",
    "Comprovarem que les solucions obtingudes de l'equació GP compleix el Teorema del Virial. \n",
    "\n",
    "El teorema del Virial en el marc de l'equació GP és de la forma: \n",
    "$$\n",
    "2\\varepsilon_{kin} - 2\\varepsilon_{o.h} + 3\\varepsilon_{int} = 0\n",
    "$$"
   ]
  },
  {
   "cell_type": "code",
   "execution_count": null,
   "id": "26ba1159",
   "metadata": {},
   "outputs": [],
   "source": []
  },
  {
   "cell_type": "markdown",
   "id": "569110a6",
   "metadata": {},
   "source": [
    "| $N$   | $2\\varepsilon_{kin} - 2\\varepsilon_{o.h} + 3\\varepsilon_{int}$ | $- 2\\varepsilon_{o.h}^{TF} + 3\\varepsilon_{int}^{TF}$ | \n",
    "|:-----:|:-----------:|:-------------:|\n",
    "|100    |             |     |\n",
    "|1000   |\n",
    "|10000  |\n",
    "|100000 |\n",
    "|1000000|\n",
    "\n",
    "comment behaviour..."
   ]
  }
 ],
 "metadata": {
  "kernelspec": {
   "display_name": "mqn",
   "language": "python",
   "name": "python3"
  },
  "language_info": {
   "codemirror_mode": {
    "name": "ipython",
    "version": 3
   },
   "file_extension": ".py",
   "mimetype": "text/x-python",
   "name": "python",
   "nbconvert_exporter": "python",
   "pygments_lexer": "ipython3",
   "version": "3.12.9"
  }
 },
 "nbformat": 4,
 "nbformat_minor": 5
}
