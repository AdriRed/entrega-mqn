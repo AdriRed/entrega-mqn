{
 "cells": [
  {
   "cell_type": "markdown",
   "id": "f4f0858a",
   "metadata": {},
   "source": [
    "# Assigment - Weakly interacting and confined bosons at low density\n",
    "\n",
    "### _Authors:_ Clàudia Garcia and Adrià Rojo\n",
    "\n",
    "L'equació de Gross-Pitaevskii (GP) ens permet descriure els experiments de condensats de Bose-Einstein dins del marc tèoric. \n",
    "\n",
    "En aquest exemple, considerem N àtoms de $^{87}$ Rb, on tots els àtoms estàn confinats per un camp magnètic, i tots els efectes d'aquest es descriuen bé per un potencial harmònic. També considerem que $\\Psi(\\vec{r})$ està normalitzat a la unitat. L'equació GP és la següent:\n",
    "\n",
    "$$\n",
    "\\left[-\\frac{1}{2} \\nabla^2+\\frac{1}{2} r_1^2+4 \\pi \\bar{a}_s N\\left|\\bar{\\Psi}\\left(\\vec{r}_1\\right)\\right|^2\\right] \\bar{\\Psi}\\left(\\vec{r}_1\\right)=\\bar{\\mu} \\bar{\\Psi}\\left(\\vec{r}_1\\right),\n",
    "$$\n",
    "\n",
    "on $\\mu$ és el potencial químic, $N$ el nombre de partícules i $\\bar{a}_s$ és la longitud de $s$-wave scattering. L'equació està escrita en unitats de oscil·lador harmònic.\n",
    "\n",
    "Començarem per precomputar valors de distància i variables de la simulació i la funció d'ona inicial i fer tots els `imports`. Per la segona derivada utilitzarem la funció `gradient` de `numpy`. Utilitzarem `tqdm` per iterar el bucle i tenir una estimació del temps d'execució. El codi utilitza de forma extensiva generadors, per evitar l'anidament en un segon bucle `for`. "
   ]
  },
  {
   "cell_type": "code",
   "execution_count": 43,
   "id": "1517188b",
   "metadata": {},
   "outputs": [],
   "source": [
    "import numpy as np\n",
    "import numpy.typing as npt\n",
    "from tqdm import tqdm\n",
    "from IPython.display import display, Math, Markdown, clear_output\n",
    "import typing as t\n",
    "\n",
    "def second_derivative(fun: npt.ArrayLike, h: float) -> npt.ArrayLike:\n",
    "    first = np.gradient(fun, h)\n",
    "    return np.gradient(first, h)\n",
    "\n",
    "\n",
    "\n",
    "def initial_values(scattering_length: float, width:float, step:float, atom_numbers:int, alpha:float) -> \\\n",
    "    t.Tuple[float, float, float, float, npt.ArrayLike, npt.ArrayLike, npt.ArrayLike]:\n",
    "    alpha2 = alpha*alpha\n",
    "    cvar = 2 * np.power(alpha, 3/2)/ np.power(np.pi, 1/4)\n",
    "    rs = np.array([i * step for i in range(width)])\n",
    "    r2s = rs**2\n",
    "    psi = np.array([cvar*r*np.exp(-0.5*alpha2*r2) for (r, r2) in zip(rs, r2s)])\n",
    "    interaction = scattering_length*atom_numbers\n",
    "    density_param = atom_numbers*scattering_length*scattering_length*scattering_length\n",
    "    return alpha2, cvar, interaction, density_param,rs, r2s, psi\n"
   ]
  },
  {
   "cell_type": "markdown",
   "id": "5781d702",
   "metadata": {},
   "source": [
    "La funció `final_properties` calcularà propietats finals de la simulació (no se podia saber), calculant els seguents valors:\n",
    "\n",
    "$$ \\langle r^2 \\rangle = \\int^\\infty_0{r^2\\left| \\psi^2(r_1)\\right|^2 dr_1} \\approx \\sum^\\infty_{r_i = 0}{r_i^2\\left| \\psi(r_i)\\right|^2}\\Delta r \\qquad\n",
    "\\langle T \\rangle = -\\frac{1}{2}\\int_0^\\infty \\psi(r) \\frac{d^2\\psi}{dr^2} \\, dr \\approx -\\frac{1}{2}\\sum_i \\psi(r_i) \\left(\\frac{d^2\\psi}{dr^2}\\right)_i \\Delta r \\qquad  \\\\\n",
    "\\langle V_{\\text{harm}} \\rangle = \\frac{1}{2}\\int_0^\\infty r^2 |\\psi(r)|^2 \\, dr \\approx \\frac{1}{2}\\sum_i r_i^2 |\\psi(r_i)|^2 \\Delta r \\qquad\n",
    "\\langle V_{\\text{int}} \\rangle = \\frac{g}{2}\\int_0^\\infty \\frac{|\\psi(r)|^4}{r^2} r^2 \\, dr \\approx \\frac{g}{2}\\sum_i r_i^2 \\left(\\frac{|\\psi(r_i)|}{r_i}\\right)^4 \\Delta r \\qquad \\\\\n",
    "\\langle \\mu \\rangle = \\int_0^\\infty \\mu(r) |\\psi(r)|^2 \\, dr \\approx \\sum_i \\mu(r_i) |\\psi(r_i)|^2 \\Delta r \\qquad  \n",
    "\\mu(r) = \\frac{-\\frac{1}{2}\\frac{d^2\\psi}{dr^2} + \\frac{1}{2}r^2\\psi(r) + g\\frac{|\\psi(r)|^2}{r^2}\\psi(r)}{\\psi(r)} \\qquad \\\\\n",
    "E_{\\text{total}} = \\langle T \\rangle + \\langle V_{\\text{harm}} \\rangle + \\langle V_{\\text{int}} \\rangle \\qquad\n",
    "n(r) = \\begin{cases} \n",
    "\\left(\\frac{\\psi(r)}{r}\\right)^2 & \\text{si } r \\neq 0 \\\\\n",
    "0 & \\text{si } r = 0\n",
    "\\end{cases}\n",
    "$$"
   ]
  },
  {
   "cell_type": "code",
   "execution_count": null,
   "id": "63db98d5",
   "metadata": {},
   "outputs": [],
   "source": [
    "def final_properties(psi: npt.ArrayLike, local_mu: npt.ArrayLike, step: float, rs: npt.ArrayLike, r2s:npt.ArrayLike, interaction: float) -> \\\n",
    "    t.Dict[str, float]:\n",
    "    psi_dx2 = second_derivative(psi, step)\n",
    "    \n",
    "    # integrals\n",
    "    local_values = [\n",
    "        (\n",
    "            r2*final*final, #acc radius\n",
    "            final*dx2, # kin energy\n",
    "            r2*final*final, # armonic\n",
    "            r2*(final/r if r != 0 else 1)**4 , # interaction energy\n",
    "            mu*final*final, # average chem potential\n",
    "            r2/2 + interaction * (final/r if r != 0 else 1)**2, # particle potential\n",
    "            (final/r if r != 0 else 1)**2  # density\n",
    "        )\n",
    "        for r, r2, final, dx2, mu in zip(rs, r2s, psi, psi_dx2, local_mu)\n",
    "    ]\n",
    "\n",
    "    local_accumulted_radius, local_kinetic_energy, local_armonic_potential, local_interaction_energy, local_average_chem_potential, particle_potential, density =\\\n",
    "        zip(*local_values)\n",
    "\n",
    "    squared_radius = sum(local_accumulted_radius)*step\n",
    "    mean_squared_radius = np.sqrt(squared_radius)\n",
    "    average_chem_potential = sum(local_average_chem_potential)*step\n",
    "    kinetic_energy = -sum(local_kinetic_energy)*step/2\n",
    "    armonic_potential = sum(local_armonic_potential)*step/2\n",
    "    interaction_energy = sum(local_interaction_energy)*step*interaction/2\n",
    "\n",
    "    return {\n",
    "        \"r^2\": squared_radius,\n",
    "        \"<r^2>\": mean_squared_radius,\n",
    "        \"avg mu\": average_chem_potential,\n",
    "        \"kin energy\": kinetic_energy,\n",
    "        \"armonic pot\" : armonic_potential,\n",
    "        \"interac energy\": interaction_energy,\n",
    "        \"total energy\": kinetic_energy+armonic_potential+interaction_energy\n",
    "    }\n",
    "\n",
    "def compute_wavelength(rs: npt.ArrayLike, r2s: npt.ArrayLike, psi: npt.ArrayLike, iterations: int, step: float, interaction: float, time_step: float, label: str=None) -> \\\n",
    "        t.Tuple[npt.ArrayLike, npt.ArrayLike]:\n",
    "    psi_curr = psi\n",
    "    for i in tqdm(range(iterations), desc=label):\n",
    "        psi_dx2 = second_derivative(psi_curr, step)\n",
    "        # calculo de energia y mu local\n",
    "        local_energy_mu = [(-(curr*dx2+r2*curr**2+interaction*r2*(curr/r if r != 0 else 1)**4)/2 , \n",
    "                            (-(dx2/curr if curr != 0 else 1) + r2 + interaction*(curr/r if r != 0 else 1)**2)/2 )\n",
    "                        for r, r2, curr, dx2 in zip(rs, r2s, psi_curr, psi_dx2)]\n",
    "        # deshacer la lista de tuplas (energía y mu de cada distancia) \n",
    "        # en una tupla de listas (lista de todas las energías y lista de todas las mus)\n",
    "        local_energy, local_mu = zip(*local_energy_mu)\n",
    "        energy = sum(local_energy)*step\n",
    "        # evolución de la función de onda\n",
    "        psi_next = [curr*(1 - time_step*mu) for curr, mu in zip(psi_curr, local_mu)]\n",
    "        normalization_const = np.sqrt(sum(next*next for next in psi_next)*step)\n",
    "        psi_curr = np.array(psi_next)/normalization_const\n",
    "    \n",
    "    return (psi_curr, local_mu)"
   ]
  },
  {
   "cell_type": "markdown",
   "id": "e5a92154",
   "metadata": {},
   "source": [
    "### a0) Terme d'interacció nul.\n",
    "\n",
    "Si considerem el terme d'interacció nul (en el nostre programa la variable `interaction`), l'equació GP queda com: \n",
    "\n",
    "$$\n",
    "\\left[-\\frac{1}{2} \\nabla^2+\\frac{1}{2} r_1^2\\right] \\bar{\\Psi}\\left(\\vec{r}_1\\right)=\\bar{\\mu} \\bar{\\Psi}\\left(\\vec{r}_1\\right),\n",
    "$$\n",
    "\n",
    "Que com veiem\n",
    "$\n",
    "H_{o.h} = -\\frac{1}{2} \\nabla^2+\\frac{1}{2} r_1^2,\n",
    "$\n",
    " coincideix amb l'expressió de l'hamiltonià de l'oscil·lador harmònic en tres dimensions, per tant, tenim que: \n",
    "$H_{o.h} \\bar{\\Psi}\\left(\\vec{r}_1\\right) = \\varepsilon \\bar{\\Psi}\\left(\\vec{r}_1\\right)$ i comparant ambdós equacions obtenim que $\\bar{\\mu} = \\varepsilon$, és a dir, el potencial químic coincideix amb l'energia per partícula ($ \\varepsilon = E/N$)."
   ]
  },
  {
   "cell_type": "code",
   "execution_count": 24,
   "id": "2817fb84",
   "metadata": {},
   "outputs": [
    {
     "name": "stderr",
     "output_type": "stream",
     "text": [
      "100%|██████████| 70000/70000 [00:31<00:00, 2215.28it/s]\n"
     ]
    },
    {
     "data": {
      "text/latex": [
       "$\\displaystyle E = 1.49986, \\mu = 1.49986$"
      ],
      "text/plain": [
       "<IPython.core.display.Math object>"
      ]
     },
     "metadata": {},
     "output_type": "display_data"
    },
    {
     "data": {
      "text/latex": [
       "$\\displaystyle \\varepsilon_{kin} = 0.75000, \\varepsilon_{o.h} = 0.74986, \\varepsilon_{int} = 0.00000$"
      ],
      "text/plain": [
       "<IPython.core.display.Math object>"
      ]
     },
     "metadata": {},
     "output_type": "display_data"
    }
   ],
   "source": [
    "scattering_length, width,  step, atom_numbers, time_step, alpha, iterations = \\\n",
    "          0.00433,  400,  0.015,        10000,    0.0001,   0.8,      70000\n",
    "\n",
    "alpha2, cvar, interaction, density_param, rs, r2s, psi = \\\n",
    "    initial_values(scattering_length, width, step, atom_numbers, alpha)\n",
    "interaction = 0 # sobreescribimos el valor\n",
    "\n",
    "final, local_mu = compute_wavelength(rs, r2s, psi, iterations,step, interaction,time_step)\n",
    "\n",
    "properties = final_properties(final, local_mu, step, rs, r2s, interaction)\n",
    "\n",
    "display(Math(\"E = {total energy:.5f}, \\\\mu = {avg mu:.5f}\".format(**properties)))\n",
    "display(Math(\"\\\\varepsilon_{{kin}} = {kin energy:.5f}, \\\\varepsilon_{{o.h}} = {armonic pot:.5f}, \\\\varepsilon_{{int}} = {interac energy:.5f}\".format(**properties)))"
   ]
  },
  {
   "cell_type": "markdown",
   "id": "6bf4cbc4",
   "metadata": {},
   "source": [
    "Podem observar que tant l'energia cinética com la de l'oscil·lador harmònic es reparteixen de forma igual l'energia, complint d'aquesta forma el teorema del virial per aquests casos. Evidentment, el terme d'energia d'interacció és igual a zero."
   ]
  },
  {
   "cell_type": "markdown",
   "id": "10c893de",
   "metadata": {},
   "source": [
    "### a) Resolució de l'equació GP per a diferents $N$\n",
    "\n",
    "Utilizant $\\bar{a}_s = 0.00433$ resolem l'equació GP per diferents nombres de partícules ($N$) i obtenim els següents resultats per $\\mu$ i les següents energies per partícules: total, cinètica, de l'oscil·lador harmònic i d'interacció.\n",
    "\n"
   ]
  },
  {
   "cell_type": "code",
   "execution_count": null,
   "id": "752f6f99",
   "metadata": {},
   "outputs": [
    {
     "data": {
      "text/markdown": [
       "| $N$   | $\\bar{\\mu}$ | $\\varepsilon$ | $\\varepsilon_{kin}$ | $\\varepsilon_{o.h}$ | $\\varepsilon_{int}$ |\n",
       "|:-----:|:-----------:|:---:|:---------:|:---------:|:---------:|\n",
       "|$10^{ 2 }$|1.65589|1.65589|0.69589|0.80908|0.15092|\n",
       "|$10^{ 3 }$|2.48689|2.48689|0.50978|1.13860|0.83851|\n",
       "|$10^{ 4 }$|5.29692|5.29692|0.29058|2.31160|2.69474|\n",
       "|$10^{ 5 }$|12.81550|12.81550|0.15246|5.51201|7.15103|\n",
       "|$10^{ 6 }$|40.98343|40.98343|0.02722|10.03987|30.91634|\n",
       "|$10^{ 7 }$|6414816481.48159|6414816481.48160|1666.66676|0.00011|6414814814.81472|\n"
      ],
      "text/plain": [
       "<IPython.core.display.Markdown object>"
      ]
     },
     "metadata": {},
     "output_type": "display_data"
    }
   ],
   "source": [
    "markdown_table = \"| $N$   | $\\\\bar{\\\\mu}$ | $\\\\varepsilon$ | $\\\\varepsilon_{kin}$ | $\\\\varepsilon_{o.h}$ | $\\\\varepsilon_{int}$ |\\n\" +\\\n",
    "                 \"|:-----:|:-----------:|:---:|:---------:|:---------:|:---------:|\\n\"\n",
    "\n",
    "display(Markdown(markdown_table))\n",
    "\n",
    "normal_props = {}\n",
    "\n",
    "for exponent in range(2, 8):\n",
    "    particles = int(10**exponent)\n",
    "    scattering_length, width,   step, atom_numbers, time_step, alpha, iterations = \\\n",
    "              0.00433,   400,  0.015,    particles,    0.0001,   0.8,      40000\n",
    "\n",
    "    alpha2, cvar, interaction, density_param, rs, r2s, psi = \\\n",
    "        initial_values(scattering_length, width, step, atom_numbers, alpha)\n",
    "    final, local_mu = compute_wavelength(rs, r2s, psi, iterations,step, interaction,time_step, label=\"N = 10^{0:02d}\".format(exponent))\n",
    "\n",
    "    properties = final_properties(final, local_mu, step, rs, r2s, interaction)\n",
    "    normal_props[exponent] = properties\n",
    "    markdown_table += \"|$10^{{ {exponent} }}$|{avg mu:.5f}|{total energy:.5f}|{kin energy:.5f}|{armonic pot:.5f}|{interac energy:.5f}|\\n\".format(exponent=exponent, **properties)\n",
    "    clear_output(True)\n",
    "    display(Markdown(markdown_table))\n",
    "\n",
    "clear_output(True)\n",
    "display(Markdown(markdown_table))\n"
   ]
  },
  {
   "cell_type": "markdown",
   "id": "0e146349",
   "metadata": {},
   "source": [
    "Observem que l'energia d'interacció augmenta amb la quantitat de partícules i en canvi l'energía cinética disminueix, estant més d'acord cada cop amb l'aproximació de Thomas-Fermi. Veiem que a partir de $N=10^7$ hi ha un error d'_overflow_."
   ]
  },
  {
   "cell_type": "markdown",
   "id": "8c70c722",
   "metadata": {},
   "source": [
    "### b) Aproximació de Thomas-Fermi.\n",
    " En el marc d'aquesta aproximació el terme cinètic es pot considerar nul i l'equació GP queda com: \n",
    "\n",
    "$$\n",
    "\\left[\\frac{1}{2} r_1^2+4 \\pi \\bar{a}_s N\\left|\\bar{\\Psi}\\left(\\vec{r}_1\\right)\\right|^2\\right] \\bar{\\Psi}\\left(\\vec{r}_1\\right)=\\bar{\\mu} \\bar{\\Psi}\\left(\\vec{r}_1\\right)\n",
    "$$\n",
    "\n",
    "Imponent que el límit de la simulació és $r_{TF} = (15 g)^{1/5}$, i que la funció del potencial químic local tingui un tall abrupte a $r_{TF}$."
   ]
  },
  {
   "cell_type": "code",
   "execution_count": 55,
   "id": "2baa168e",
   "metadata": {},
   "outputs": [],
   "source": [
    "def initial_values_TF(scattering_length: float, width: int, step: float, atom_numbers: int) ->\\\n",
    "      t.Tuple[npt.ArrayLike, npt.ArrayLike, npt.ArrayLike, float, float]:\n",
    "    g = scattering_length * atom_numbers  # Constante de interacción efectiva\n",
    "    mu_TF = (15 * g )**(2/5)  # μ_TF en 3D\n",
    "    R_TF = np.sqrt(2 * mu_TF)  # Radio de Thomas-Fermi\n",
    "    \n",
    "    rs = np.array([i * step for i in range(width)])\n",
    "    r2s = rs**2\n",
    "    psi_TF = np.array([np.sqrt(max((mu_TF - 0.5 * r2) / g, 0)) for r2 in r2s])\n",
    "    \n",
    "    return g, rs, r2s, psi_TF, mu_TF, R_TF\n",
    "\n",
    "def compute_mu_local_TF(rs: npt.ArrayLike, mu_TF: float, R_TF: float) ->\\\n",
    "    npt.ArrayLike:\n",
    "    return np.array([mu_TF if r <= R_TF else 0 for r in rs])\n",
    "\n",
    "def final_properties_TF(\n",
    "    rs: npt.ArrayLike, \n",
    "    r2s: npt.ArrayLike, \n",
    "    step: float, \n",
    "    interaction: float, \n",
    ") -> t.Dict[str, float]:\n",
    "\n",
    "    mu_TF = (15 * interaction)**(2/5)\n",
    "    R_TF = np.sqrt(2 * mu_TF)\n",
    "    \n",
    "    density = np.array([\n",
    "        (mu_TF - 0.5 * r2) / interaction if (mu_TF - 0.5 * r2) > 0 and r != 0 else 0 \n",
    "        for r, r2 in zip(rs, r2s)\n",
    "    ])\n",
    "    \n",
    "    local_values = [\n",
    "        (\n",
    "            r2 * dens,\n",
    "            0.0,\n",
    "            r2 * dens,\n",
    "            r2 * dens**2,\n",
    "            mu_TF * dens,\n",
    "            0.5 * r2 + interaction * dens,\n",
    "        )\n",
    "        for r2, dens in zip(r2s, density)\n",
    "    ]\n",
    "    \n",
    "    # Desempaquetar valores locales\n",
    "    (local_radius, _, local_harmonic, local_interaction, \n",
    "     local_mu, _) = zip(*local_values)\n",
    "    \n",
    "    # Integrales (suma * paso)\n",
    "    squared_radius = sum(local_radius) * step\n",
    "    harmonic_pot = 0.5 * sum(local_harmonic) * step\n",
    "    interaction_energy = 0.5 * interaction * sum(local_interaction) * step\n",
    "    avg_mu = sum(local_mu) * step\n",
    "    \n",
    "    return {\n",
    "        \"r^2\": squared_radius,\n",
    "        \"<r^2>\": np.sqrt(squared_radius),\n",
    "        \"avg mu\": avg_mu,\n",
    "        \"kin energy\": 0,  # Cero en TF\n",
    "        \"armonic pot\": harmonic_pot,\n",
    "        \"interac energy\": interaction_energy,\n",
    "        \"total energy\": harmonic_pot + interaction_energy,\n",
    "        \"R_TF\": R_TF,\n",
    "        \"mu_TF\": mu_TF\n",
    "    }"
   ]
  },
  {
   "cell_type": "code",
   "execution_count": 53,
   "id": "c0efd47c",
   "metadata": {},
   "outputs": [
    {
     "data": {
      "text/markdown": [
       "| $N$   | $\\bar{\\mu}$ | $\\varepsilon$ | $\\varepsilon_{kin}$ | $\\varepsilon_{o.h}$ | $\\varepsilon_{int}$ |\n",
       "|:-----:|:-----------:|:---:|:---------:|:---------:|:---------:|\n",
       "|$10^{ 2 }$|14.06464|6.24447|0.00000|2.82831|3.41616|\n",
       "|$10^{ 3 }$|14.09332|11.40945|0.00000|2.82843|8.58101|\n",
       "|$10^{ 4 }$|14.11134|24.38297|0.00000|2.82844|21.55453|\n",
       "|$10^{ 5 }$|12.73629|46.49239|0.00000|1.88238|44.61001|\n",
       "|$10^{ 6 }$|9.08980|45.38243|0.00000|0.60774|44.77469|\n"
      ],
      "text/plain": [
       "<IPython.core.display.Markdown object>"
      ]
     },
     "metadata": {},
     "output_type": "display_data"
    }
   ],
   "source": [
    "markdown_table = \"| $N$   | $\\\\bar{\\\\mu}$ | $\\\\varepsilon$ | $\\\\varepsilon_{kin}$ | $\\\\varepsilon_{o.h}$ | $\\\\varepsilon_{int}$ |\\n\" +\\\n",
    "                 \"|:-----:|:-----------:|:---:|:---------:|:---------:|:---------:|\\n\"\n",
    "TF_props = {}\n",
    "\n",
    "display(Markdown(markdown_table))\n",
    "for exponent in range(2, 7):\n",
    "    particles = int(10**exponent)\n",
    "    scattering_length, width,   step, atom_numbers, time_step, alpha, iterations = \\\n",
    "              0.00433,   400,  0.015,    particles,    0.0001,   0.8,      40000\n",
    "    \n",
    "    interaction, rs, r2s, psi_TF, mu_TF, R_TF = \\\n",
    "        initial_values_TF(scattering_length, width, step, atom_numbers)\n",
    "    local_mu = compute_mu_local_TF(rs, mu_TF, R_TF)\n",
    "\n",
    "    properties = final_properties_TF(rs,r2s,step,interaction)\n",
    "    markdown_table += \"|$10^{{ {exponent} }}$|{avg mu:.5f}|{total energy:.5f}|{kin energy:.5f}|{armonic pot:.5f}|{interac energy:.5f}|\\n\".format(exponent=exponent, **properties)\n",
    "    TF_props[exponent] = properties\n",
    "    clear_output(True)\n",
    "    display(Markdown(markdown_table))\n",
    "\n",
    "clear_output(True)\n",
    "display(Markdown(markdown_table))\n"
   ]
  },
  {
   "cell_type": "markdown",
   "id": "eb2db83f",
   "metadata": {},
   "source": [
    "### c) Plots de la de densitat $\\rho(r_1)$ per $N = 1000$ i $N = 100000$. \n",
    "\n",
    "Compararem els resultats per l'equació GP i per aquesta en l'aproximació de TF. \n",
    "\n",
    "La densitat $\\rho(r_1)$ està normalitzada com: $\\int dr_1 r_1^2 \\rho(r_1)$\n",
    "\n",
    "En el cas de l'aproximació TF tenim la següent expressió per la densitat: \n",
    "$$\n",
    "\\rho(r_1) = \\frac{1}{4 \\pi N \\bar{a}_s} \\cdot \\left( \\bar{\\mu} - \\frac{1}{2}r_1^2 \\right)\n",
    "$$"
   ]
  },
  {
   "cell_type": "code",
   "execution_count": null,
   "id": "06ec06f6",
   "metadata": {},
   "outputs": [],
   "source": []
  },
  {
   "cell_type": "markdown",
   "id": "b0c406c6",
   "metadata": {},
   "source": [
    "### d) Teorema del Virial per diferents valors de $N$\n",
    "\n",
    "Comprovarem que les solucions obtingudes de l'equació GP compleix el Teorema del Virial. \n",
    "\n",
    "El teorema del Virial en el marc de l'equació GP és de la forma: \n",
    "$$\n",
    "2\\varepsilon_{kin} - 2\\varepsilon_{o.h} + 3\\varepsilon_{int} = 0\n",
    "$$"
   ]
  },
  {
   "cell_type": "code",
   "execution_count": null,
   "id": "26ba1159",
   "metadata": {},
   "outputs": [],
   "source": []
  },
  {
   "cell_type": "markdown",
   "id": "569110a6",
   "metadata": {},
   "source": [
    "| $N$   | $2\\varepsilon_{kin} - 2\\varepsilon_{o.h} + 3\\varepsilon_{int}$ | $- 2\\varepsilon_{o.h}^{TF} + 3\\varepsilon_{int}^{TF}$ | \n",
    "|:-----:|:-----------:|:-------------:|\n",
    "|100    |             |     |\n",
    "|1000   |\n",
    "|10000  |\n",
    "|100000 |\n",
    "|1000000|\n",
    "\n",
    "comment behaviour..."
   ]
  }
 ],
 "metadata": {
  "kernelspec": {
   "display_name": "mqn",
   "language": "python",
   "name": "python3"
  },
  "language_info": {
   "codemirror_mode": {
    "name": "ipython",
    "version": 3
   },
   "file_extension": ".py",
   "mimetype": "text/x-python",
   "name": "python",
   "nbconvert_exporter": "python",
   "pygments_lexer": "ipython3",
   "version": "3.12.9"
  }
 },
 "nbformat": 4,
 "nbformat_minor": 5
}
