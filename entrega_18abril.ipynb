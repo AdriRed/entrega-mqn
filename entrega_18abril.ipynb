{
 "cells": [
  {
   "cell_type": "markdown",
   "id": "f4f0858a",
   "metadata": {},
   "source": [
    "# Assigment - Weakly interacting and confined bosons at low density\n",
    "\n",
    "### _Authors:_ Clàudia Garcia and Adrià Rojo\n",
    "\n",
    "L'equació de Gross-Pitaevskii (GP) ens permet descriure els experiments de condensats de Bose-Einstein dins del marc tèoric. \n",
    "\n",
    "En aquest exemple, considerem N àtoms de $^{87}$ Rb, on tots els àtoms estàn confinats per un camp magnètic, i tots els efectes d'aquest es descriuen bé per un potencial harmònic. També considerem que $\\Psi(\\vec{r})$ està normalitzat a la unitat. L'equació GP és la següent:\n",
    "\n",
    "$$\n",
    "\\left[-\\frac{1}{2} \\nabla^2+\\frac{1}{2} r_1^2+4 \\pi \\bar{a}_s N\\left|\\bar{\\Psi}\\left(\\vec{r}_1\\right)\\right|^2\\right] \\bar{\\Psi}\\left(\\vec{r}_1\\right)=\\bar{\\mu} \\bar{\\Psi}\\left(\\vec{r}_1\\right),\n",
    "$$\n",
    "\n",
    "on $\\mu$ és el potencial químic, $N$ el nombre de partícules i $\\bar{a}_s$ és la longitud de $s$-wave scattering. L'equació està escrita en unitats de oscil·lador harmònic.\n",
    "\n",
    "Començarem per precomputar valors de distància i variables de la simulació i la funció d'ona inicial i fer tots els `imports`. Per la segona derivada utilitzarem la funció `gradient` de `numpy`. Utilitzarem `tqdm` per iterar el bucle i tenir una estimació del temps d'execució. El codi utilitza de forma extensiva generadors, per evitar l'anidament en un segon bucle `for`. "
   ]
  },
  {
   "cell_type": "code",
   "execution_count": 16,
   "id": "63db98d5",
   "metadata": {},
   "outputs": [],
   "source": [
    "import numpy as np\n",
    "import numpy.typing as npt\n",
    "from tqdm import tqdm\n",
    "from IPython.display import display, Math, Markdown\n",
    "\n",
    "def second_derivative(fun: npt.ArrayLike, h: float) -> npt.ArrayLike:\n",
    "    first = np.gradient(fun, h)\n",
    "    return np.gradient(first, h)\n",
    "\n",
    "def final_properties(psi, local_mu, step, rs, r2s, interaction):\n",
    "    psi_dx2 = second_derivative(psi, step)\n",
    "\n",
    "    local_values = [\n",
    "        (r2*final*final, #acc radius\n",
    "            final*dx2, # kin energy\n",
    "            r2*final*final, # armonic\n",
    "            r2*(final/r)**4 if r != 0 else 0, # interaction energy\n",
    "            mu*final*final, # average chem potential\n",
    "            r2/2 + interaction * (final/r)**2 if r != 0 else 0, # particle potential\n",
    "            (final/r)**2 if r != 0 else 0 # density\n",
    "        )\n",
    "        for r, r2, final, dx2, mu in zip(rs, r2s, psi, psi_dx2, local_mu)\n",
    "    ]\n",
    "\n",
    "    local_accumulted_radius, local_kinetic_energy, local_armonic_potential, local_interaction_energy, local_average_chem_potential, particle_potential, density =\\\n",
    "        zip(*local_values)\n",
    "\n",
    "    squared_radius = sum(local_accumulted_radius)*step\n",
    "    mean_squared_radius = np.sqrt(squared_radius)\n",
    "    average_chem_potential = sum(local_average_chem_potential)*step\n",
    "    kinetic_energy = -sum(local_kinetic_energy)*step/2\n",
    "    armonic_potential = sum(local_armonic_potential)*step/2\n",
    "    interaction_energy = sum(local_interaction_energy)*step*interaction/2\n",
    "\n",
    "    return {\n",
    "        \"r^2\": squared_radius,\n",
    "        \"<r^2>\": mean_squared_radius,\n",
    "        \"avg mu\": average_chem_potential,\n",
    "        \"kin energy\": kinetic_energy,\n",
    "        \"armonic pot\" : armonic_potential,\n",
    "        \"interac energy\": interaction_energy,\n",
    "        \"total energy\": kinetic_energy+armonic_potential+interaction_energy\n",
    "    }\n",
    "\n",
    "def initial_values(scattering_length, width, step, atom_numbers, alpha):\n",
    "    alpha2 = alpha*alpha\n",
    "    cvar = 2 * np.power(alpha, 3/2)/ np.power(np.pi, 1/4)\n",
    "    rs = np.array([i * step for i in range(width)])\n",
    "    r2s = rs**2\n",
    "    psi = np.array([cvar*r*np.exp(-0.5*alpha2*r2) for (r, r2) in zip(rs, r2s)])\n",
    "    interaction = scattering_length*atom_numbers\n",
    "    density_param = atom_numbers*scattering_length*scattering_length*scattering_length\n",
    "    return alpha2, cvar, interaction, density_param,rs, r2s, psi\n",
    "    \n",
    "def compute_wavelength(rs, r2s, psi, iterations, step, interaction, time_step, label=None):\n",
    "    psi_curr = psi\n",
    "    for i in tqdm(range(iterations), desc=label):\n",
    "        psi_dx2 = second_derivative(psi_curr, step)\n",
    "        # calculo de energia y mu local\n",
    "        local_energy_mu = [(-(curr*dx2+r2*curr**2+interaction*r2*(curr/r)**4)/2 if r != 0 else 0, \n",
    "                            ((-dx2/curr) + r2 + interaction*(curr/r)**2)/2 if r != 0 else 0)\n",
    "                        for r, r2, curr, dx2 in zip(rs, r2s, psi_curr, psi_dx2)]\n",
    "        # deshacer la lista de tuplas (energía y mu de cada distancia) \n",
    "        # en una tupla de listas (lista de todas las energías y lista de todas las mus)\n",
    "        local_energy, local_mu = zip(*local_energy_mu)\n",
    "        energy = sum(local_energy)*step\n",
    "        psi_next = [curr*(1 - time_step*mu) for curr, mu in zip(psi_curr, local_mu)]\n",
    "        normalization_const = np.sqrt(sum(next*next for next in psi_next)*step)\n",
    "        psi_curr = np.array(psi_next)/normalization_const\n",
    "    \n",
    "    return (psi_curr, local_mu)"
   ]
  },
  {
   "cell_type": "markdown",
   "id": "e5a92154",
   "metadata": {},
   "source": [
    "### a0) Terme d'interacció nul.\n",
    "\n",
    "Si considerem el terme d'interacció nul (en el nostre programa la variable `interaction`), l'equació GP queda com: \n",
    "\n",
    "$$\n",
    "\\left[-\\frac{1}{2} \\nabla^2+\\frac{1}{2} r_1^2\\right] \\bar{\\Psi}\\left(\\vec{r}_1\\right)=\\bar{\\mu} \\bar{\\Psi}\\left(\\vec{r}_1\\right),\n",
    "$$\n",
    "\n",
    "Que com veiem\n",
    "$\n",
    "H_{o.h} = -\\frac{1}{2} \\nabla^2+\\frac{1}{2} r_1^2,\n",
    "$\n",
    " coincideix amb l'expressió de l'hamiltonià de l'oscil·lador harmònic en tres dimensions, per tant, tenim que: \n",
    "$H_{o.h} \\bar{\\Psi}\\left(\\vec{r}_1\\right) = \\varepsilon \\bar{\\Psi}\\left(\\vec{r}_1\\right)$ i comparant ambdós equacions obtenim que $\\bar{\\mu} = \\varepsilon$, és a dir, el potencial químic coincideix amb l'energia per partícula ($ \\varepsilon = E/N$)."
   ]
  },
  {
   "cell_type": "code",
   "execution_count": 17,
   "id": "2817fb84",
   "metadata": {},
   "outputs": [
    {
     "name": "stderr",
     "output_type": "stream",
     "text": [
      "100%|██████████| 70000/70000 [00:33<00:00, 2085.38it/s]\n"
     ]
    },
    {
     "data": {
      "text/latex": [
       "$\\displaystyle E = 1.49986, \\mu = 1.49986$"
      ],
      "text/plain": [
       "<IPython.core.display.Math object>"
      ]
     },
     "metadata": {},
     "output_type": "display_data"
    },
    {
     "data": {
      "text/latex": [
       "$\\displaystyle \\varepsilon_{kin} = 0.75000, \\varepsilon_{o.h} = 0.74986, \\varepsilon_{int} = 0.00000$"
      ],
      "text/plain": [
       "<IPython.core.display.Math object>"
      ]
     },
     "metadata": {},
     "output_type": "display_data"
    }
   ],
   "source": [
    "scattering_length, width,  step, atom_numbers, time_step, alpha, iterations = \\\n",
    "          0.00433,  400,  0.015,        10000,    0.0001,   0.8,      70000\n",
    "\n",
    "alpha2, cvar, interaction, density_param, rs, r2s, psi = \\\n",
    "    initial_values(scattering_length, width, step, atom_numbers, alpha)\n",
    "interaction = 0\n",
    "\n",
    "final, local_mu = compute_wavelength(rs, r2s, psi, iterations,step, interaction,time_step)\n",
    "\n",
    "properties = final_properties(final, local_mu, step, rs, r2s, interaction)\n",
    "\n",
    "display(Math(\"E = {total energy:.5f}, \\\\mu = {avg mu:.5f}\".format(**properties)))\n",
    "display(Math(\"\\\\varepsilon_{{kin}} = {kin energy:.5f}, \\\\varepsilon_{{o.h}} = {armonic pot:.5f}, \\\\varepsilon_{{int}} = {interac energy:.5f}\".format(**properties)))"
   ]
  },
  {
   "cell_type": "markdown",
   "id": "6bf4cbc4",
   "metadata": {},
   "source": [
    "Podem observar que tant l'energia cinética com la de l'oscil·lador harmònic es reparteixen de forma igual l'energia, complint d'aquesta forma el teorema del virial per aquests casos. Evidentment, el terme d'energia d'interacció és igual a zero."
   ]
  },
  {
   "cell_type": "markdown",
   "id": "10c893de",
   "metadata": {},
   "source": [
    "### a) Resolució de l'equació GP per a diferents $N$\n",
    "\n",
    "Utilizant $\\bar{a}_s = 0.00433$ resolem l'equació GP per diferents nombres de partícules ($N$) i obtenim els següents resultats per $\\mu$ i les següents energies per partícules: total, cinètica, de l'oscil·lador harmònic i d'interacció.\n",
    "\n"
   ]
  },
  {
   "cell_type": "code",
   "execution_count": null,
   "id": "752f6f99",
   "metadata": {},
   "outputs": [
    {
     "name": "stderr",
     "output_type": "stream",
     "text": [
      "Particles     100: 100%|██████████| 40000/40000 [00:18<00:00, 2155.33it/s]\n",
      "Particles    1000: 100%|██████████| 40000/40000 [00:18<00:00, 2130.69it/s]\n",
      "Particles   10000: 100%|██████████| 40000/40000 [00:18<00:00, 2133.86it/s]\n",
      "Particles  100000: 100%|██████████| 40000/40000 [00:18<00:00, 2143.43it/s]\n",
      "Particles 1000000: 100%|██████████| 40000/40000 [00:18<00:00, 2132.39it/s]\n"
     ]
    },
    {
     "data": {
      "text/markdown": [
       "| $N$   | $\\bar{\\mu}$ | $\\varepsilon$ | $\\varepsilon_{kin}$ | $\\varepsilon_{o.h}$ | $\\varepsilon_{int}$ |\n",
       "|:-----:|:-----------:|:---:|:---------:|:---------:|:---------:|\n",
       "|100|1.65589|1.65589|0.69589|0.80908|0.15092|\n",
       "|1000|2.48689|2.48689|0.50978|1.13860|0.83851|\n",
       "|10000|5.29692|5.29692|0.29058|2.31160|2.69474|\n",
       "|100000|12.81550|12.81550|0.15246|5.51201|7.15103|\n",
       "|1000000|40.98343|40.98343|0.02722|10.03987|30.91634|\n"
      ],
      "text/plain": [
       "<IPython.core.display.Markdown object>"
      ]
     },
     "metadata": {},
     "output_type": "display_data"
    }
   ],
   "source": [
    "markdown_table = \"| $N$   | $\\\\bar{\\\\mu}$ | $\\\\varepsilon$ | $\\\\varepsilon_{kin}$ | $\\\\varepsilon_{o.h}$ | $\\\\varepsilon_{int}$ |\\n\" +\\\n",
    "                 \"|:-----:|:-----------:|:---:|:---------:|:---------:|:---------:|\\n\"\n",
    "for particles in [100, 1000, 10000, 100000, 1000000]:\n",
    "    scattering_length, width,   step, atom_numbers, time_step, alpha, iterations = \\\n",
    "              0.00433,   400,  0.015,    particles,    0.0001,   0.8,      40000\n",
    "\n",
    "    alpha2, cvar, interaction, density_param, rs, r2s, psi = \\\n",
    "        initial_values(scattering_length, width, step, atom_numbers, alpha)\n",
    "    final, local_mu = compute_wavelength(rs, r2s, psi, iterations,step, interaction,time_step, label=\"N = {0:7d}\".format(particles))\n",
    "\n",
    "    properties = final_properties(final, local_mu, step, rs, r2s, interaction)\n",
    "    markdown_table += \"|{particles}|{avg mu:.5f}|{total energy:.5f}|{kin energy:.5f}|{armonic pot:.5f}|{interac energy:.5f}|\\n\".format(particles=particles, **properties)\n",
    "\n",
    "display(Markdown(markdown_table))\n"
   ]
  },
  {
   "cell_type": "markdown",
   "id": "0e146349",
   "metadata": {},
   "source": [
    "Observem que l'energia d'interacció augmenta amb la quantitat de partícules i en canvi l'energía cinética disminueix."
   ]
  },
  {
   "cell_type": "markdown",
   "id": "8c70c722",
   "metadata": {},
   "source": [
    "### b) Aproximació de Thomas-Fermi.\n",
    " En el marc d'aquesta aproximació el terme cinètic es pot considerar nul i l'equació GP queda com: \n",
    "\n",
    "$$\n",
    "\\left[\\frac{1}{2} r_1^2+4 \\pi \\bar{a}_s N\\left|\\bar{\\Psi}\\left(\\vec{r}_1\\right)\\right|^2\\right] \\bar{\\Psi}\\left(\\vec{r}_1\\right)=\\bar{\\mu} \\bar{\\Psi}\\left(\\vec{r}_1\\right)\n",
    "$$\n"
   ]
  },
  {
   "cell_type": "code",
   "execution_count": 4,
   "id": "2baa168e",
   "metadata": {},
   "outputs": [],
   "source": [
    "def initial_values_TF(scattering_length, width, step, atom_numbers):\n",
    "    rs = np.array([i * step for i in range(width)])\n",
    "    r2s = rs**2\n",
    "    g_1D = scattering_length * atom_numbers  # Interacción efectiva en 1D\n",
    "    mu_TF = (15 * g_1D / (8 * np.sqrt(2 * np.pi)))**(2/5)  # Potencial químico TF (ajustar según sistema)\n",
    "    psi_TF = np.array([np.sqrt(max((mu_TF - 0.5 * r2) / g_1D, 0)) for r2 in r2s])\n",
    "    return rs, r2s, psi_TF\n",
    "\n",
    "def compute_wavelength_TF(rs, r2s, psi, iterations, step, interaction, time_step, label=None):\n",
    "    psi_curr = psi\n",
    "    for i in tqdm(range(iterations), desc=label):\n",
    "        # Eliminar cálculo de derivadas (no hay energía cinética)\n",
    "        local_mu = [(r2 + interaction * (curr / r)**2) / 2 if r != 0 else 0 \n",
    "                    for r, r2, curr in zip(rs, r2s, psi_curr)]\n",
    "        psi_next = [curr * (1 - time_step * mu) for curr, mu in zip(psi_curr, local_mu)]\n",
    "        normalization_const = np.sqrt(sum(next**2 for next in psi_next) * step)\n",
    "        psi_curr = np.array(psi_next) / normalization_const\n",
    "    return psi_curr, local_mu\n",
    "\n",
    "def final_properties_TF(psi, rs, r2s, interaction):\n",
    "    density = np.array([(curr / r)**2 if r != 0 else 0 for r, curr in zip(rs, psi)])\n",
    "    armonic_potential = sum(0.5 * r2 * curr**2 for r2, curr in zip(r2s, psi)) * step\n",
    "    interaction_energy = 0.5 * interaction * sum(r2 * (curr / r)**4 if r != 0 else 0 \n",
    "                        for r, r2, curr in zip(rs, r2s, psi)) * step\n",
    "    return {\n",
    "        \"armonic pot\": armonic_potential,\n",
    "        \"interac energy\": interaction_energy,\n",
    "        \"total energy\": armonic_potential + interaction_energy,\n",
    "        \"density\": density\n",
    "    }"
   ]
  },
  {
   "cell_type": "code",
   "execution_count": 9,
   "id": "c0efd47c",
   "metadata": {},
   "outputs": [
    {
     "name": "stderr",
     "output_type": "stream",
     "text": [
      "N =     100: 100%|██████████| 40000/40000 [00:08<00:00, 4629.10it/s]\n",
      "N =    1000: 100%|██████████| 40000/40000 [00:08<00:00, 4497.78it/s]\n",
      "N =   10000: 100%|██████████| 40000/40000 [00:08<00:00, 4452.89it/s]\n",
      "N =  100000: 100%|██████████| 40000/40000 [00:08<00:00, 4588.55it/s]\n",
      "N = 1000000: 100%|██████████| 40000/40000 [00:08<00:00, 4542.20it/s]\n"
     ]
    },
    {
     "data": {
      "text/markdown": [
       "| $N$   | $\\bar{\\mu}$ | $\\varepsilon$ | $\\varepsilon_{kin}$ | $\\varepsilon_{o.h}$ | $\\varepsilon_{int}$ |\n",
       "|:-----:|:-----------:|:---:|:---------:|:---------:|:---------:|\n",
       "|100|6414814.81493|0.00011|6414814.81481|\n",
       "|1000|6414814.81493|0.00011|6414814.81481|\n",
       "|10000|0.00030|0.00025|0.00005|\n",
       "|100000|0.00034|0.00028|0.00006|\n",
       "|1000000|0.00035|0.00029|0.00006|\n"
      ],
      "text/plain": [
       "<IPython.core.display.Markdown object>"
      ]
     },
     "metadata": {},
     "output_type": "display_data"
    }
   ],
   "source": [
    "markdown_table = \"| $N$   | $\\\\bar{\\\\mu}$ | $\\\\varepsilon$ | $\\\\varepsilon_{kin}$ | $\\\\varepsilon_{o.h}$ | $\\\\varepsilon_{int}$ |\\n\" +\\\n",
    "                 \"|:-----:|:-----------:|:---:|:---------:|:---------:|:---------:|\\n\"\n",
    "\n",
    "for particles in [100, 1000, 10000, 100000, 1000000]:\n",
    "    scattering_length, width,  step, atom_numbers, time_step, alpha, iterations = \\\n",
    "          0.00433,  400,  0.015,        10000,    0.0001,   0.8,      40000\n",
    "    interaction = scattering_length*atom_numbers\n",
    "\n",
    "    rs, r2s, psi = initial_values_TF(scattering_length, width, step, particles)\n",
    "    psi, local_mu = compute_wavelength_TF(rs, r2s, psi, iterations, step, interaction, time_step, label=\"N = {0:7d}\".format(particles))\n",
    "    properties = final_properties_TF(psi, rs, r2s, interaction)\n",
    "    markdown_table += \"|{particles}|{total energy:.5f}|{armonic pot:.5f}|{interac energy:.5f}|\\n\".format(particles=particles, **properties)\n",
    "\n",
    "display(Markdown(markdown_table))\n"
   ]
  },
  {
   "cell_type": "markdown",
   "id": "eb2db83f",
   "metadata": {},
   "source": [
    "### c) Plots de la de densitat $\\rho(r_1)$ per $N = 1000$ i $N = 100000$. \n",
    "\n",
    "Compararem els resultats per l'equació GP i per aquesta en l'aproximació de TF. \n",
    "\n",
    "La densitat $\\rho(r_1)$ està normalitzada com: $\\int dr_1 r_1^2 \\rho(r_1)$\n",
    "\n",
    "En el cas de l'aproximació TF tenim la següent expressió per la densitat: \n",
    "$$\n",
    "\\rho(r_1) = \\frac{1}{4 \\pi N \\bar{a}_s} \\cdot \\left( \\bar{\\mu} - \\frac{1}{2}r_1^2 \\right)\n",
    "$$"
   ]
  },
  {
   "cell_type": "code",
   "execution_count": null,
   "id": "06ec06f6",
   "metadata": {},
   "outputs": [],
   "source": []
  },
  {
   "cell_type": "markdown",
   "id": "b0c406c6",
   "metadata": {},
   "source": [
    "### d) Teorema del Virial per diferents valors de $N$\n",
    "\n",
    "Comprovarem que les solucions obtingudes de l'equació GP compleix el Teorema del Virial. \n",
    "\n",
    "El teorema del Virial en el marc de l'equació GP és de la forma: \n",
    "$$\n",
    "2\\varepsilon_{kin} - 2\\varepsilon_{o.h} + 3\\varepsilon_{int} = 0\n",
    "$$"
   ]
  },
  {
   "cell_type": "code",
   "execution_count": null,
   "id": "26ba1159",
   "metadata": {},
   "outputs": [],
   "source": []
  },
  {
   "cell_type": "markdown",
   "id": "569110a6",
   "metadata": {},
   "source": [
    "| $N$   | $2\\varepsilon_{kin} - 2\\varepsilon_{o.h} + 3\\varepsilon_{int}$ | $- 2\\varepsilon_{o.h}^{TF} + 3\\varepsilon_{int}^{TF}$ | \n",
    "|:-----:|:-----------:|:-------------:|\n",
    "|100    |             |     |\n",
    "|1000   |\n",
    "|10000  |\n",
    "|100000 |\n",
    "|1000000|\n",
    "\n",
    "comment behaviour..."
   ]
  }
 ],
 "metadata": {
  "kernelspec": {
   "display_name": "mqn",
   "language": "python",
   "name": "python3"
  },
  "language_info": {
   "codemirror_mode": {
    "name": "ipython",
    "version": 3
   },
   "file_extension": ".py",
   "mimetype": "text/x-python",
   "name": "python",
   "nbconvert_exporter": "python",
   "pygments_lexer": "ipython3",
   "version": "3.12.9"
  }
 },
 "nbformat": 4,
 "nbformat_minor": 5
}
