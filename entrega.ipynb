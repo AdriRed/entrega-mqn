{
 "cells": [
  {
   "cell_type": "markdown",
   "id": "23126238",
   "metadata": {},
   "source": [
    "# Entrega 1\n",
    "#### ManyBody - Claudia Garcia, Adrià Rojo - Abril 2025"
   ]
  },
  {
   "cell_type": "code",
   "execution_count": 2,
   "id": "df0ecb5c",
   "metadata": {},
   "outputs": [],
   "source": [
    "import numpy as np\n",
    "import sympy as sp\n",
    "import scipy.interpolate as scint\n",
    "\n",
    "scattering_length, width, step, atom_numbers, time_step, alpha, iterations = \\\n",
    "    0.00433, 700, 0.015, 1000000, 0.00005, 0.3, 70000\n",
    "    # 0.00433, 400, 0.015, 10000, 0.0001, 0.8, 40000\n",
    "    # 0.00433, 600, 0.015, 100000, 0.0001, 0.4, 50000\n",
    "    # 0.00433, 400, 0.020, 1000, 0.0001, 0.5, 50000\n",
    "    # 0.00433, 300, 0.020, 100, 0.0001, 0.5, 50000  \n",
    "\n",
    "alpha2 = alpha*alpha\n",
    "cvar = 2 * np.power(alpha, 3/2)/ np.power(np.pi, 1/4)\n",
    "interaction = 0\n",
    "density_param = atom_numbers*scattering_length*scattering_length*scattering_length\n",
    "\n",
    "rs = [i * step for i in range(width)]\n",
    "r2s = [r*r for r in rs]\n",
    "rs_r2s = zip(rs, r2s)\n",
    "psi = [cvar*r*np.exp(-0.5*alpha2*r2) for (r, r2) in rs_r2s]\n"
   ]
  },
  {
   "cell_type": "code",
   "execution_count": null,
   "id": "c3c90361",
   "metadata": {},
   "outputs": [],
   "source": [
    "psi = []"
   ]
  }
 ],
 "metadata": {
  "kernelspec": {
   "display_name": "mqn",
   "language": "python",
   "name": "python3"
  },
  "language_info": {
   "codemirror_mode": {
    "name": "ipython",
    "version": 3
   },
   "file_extension": ".py",
   "mimetype": "text/x-python",
   "name": "python",
   "nbconvert_exporter": "python",
   "pygments_lexer": "ipython3",
   "version": "3.12.9"
  }
 },
 "nbformat": 4,
 "nbformat_minor": 5
}
