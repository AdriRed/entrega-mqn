{
 "cells": [
  {
   "cell_type": "markdown",
   "id": "23126238",
   "metadata": {},
   "source": [
    "# Entrega 1\n",
    "#### ManyBody - Claudia Garcia, Adrià Rojo - Abril 2025"
   ]
  },
  {
   "cell_type": "code",
   "execution_count": 13,
   "id": "df0ecb5c",
   "metadata": {},
   "outputs": [],
   "source": [
    "import numpy as np\n",
    "import numpy.typing as npt\n",
    "import sympy as sp\n",
    "import scipy.interpolate as scint\n",
    "import matplotlib.pyplot as plt\n",
    "from tqdm import tqdm\n",
    "\n",
    "\n",
    "def second_derivative(fun: npt.ArrayLike, h: float) -> npt.ArrayLike:\n",
    "    first = np.gradient(fun, h)\n",
    "    return np.gradient(first, h)\n",
    "\n",
    "scattering_length, width, step, atom_numbers, time_step, alpha, iterations = \\\n",
    "    0.00433, 400, 0.015, 10000, 0.0001, 0.8, 40000\n",
    "    # 0.00433, 700, 0.015, 1000000, 0.00005, 0.3, 70000\n",
    "    # 0.00433, 600, 0.015, 100000, 0.0001, 0.4, 50000\n",
    "    # 0.00433, 400, 0.020, 1000, 0.0001, 0.5, 50000\n",
    "    # 0.00433, 300, 0.020, 100, 0.0001, 0.5, 50000  \n",
    "\n",
    "alpha2 = alpha*alpha\n",
    "cvar = 2 * np.power(alpha, 3/2)/ np.power(np.pi, 1/4)\n",
    "interaction = 0\n",
    "# interaction = scattering_length*atom_numbers\n",
    "density_param = atom_numbers*scattering_length*scattering_length*scattering_length\n",
    "\n",
    "rs = np.array([i * step for i in range(width)])\n",
    "r2s = rs**2\n",
    "psi = np.array([cvar*r*np.exp(-0.5*alpha2*r2) for (r, r2) in zip(rs, r2s)])"
   ]
  },
  {
   "cell_type": "code",
   "execution_count": null,
   "id": "79b9b7b4",
   "metadata": {},
   "outputs": [
    {
     "name": "stderr",
     "output_type": "stream",
     "text": [
      "100%|██████████| 40000/40000 [00:23<00:00, 1721.86it/s]\n"
     ]
    }
   ],
   "source": [
    "psi_curr = psi\n",
    "energies = []\n",
    "for i in tqdm(range(iterations)):\n",
    "    psi_dx2 = second_derivative(psi_curr, step)\n",
    "    local_energy_mu = [(-(curr*dx2+r2*curr**2+interaction*r2*(curr/r if r != 0 else 0)**4)/2, \n",
    "                        ((-dx2/curr if curr != 0 else 0) + r2 + interaction*(curr/r if r != 0 else 0)**2)/2)\n",
    "                     for r, r2, curr, dx2 in zip(rs, r2s, psi_curr, psi_dx2)]\n",
    "    local_energy, local_mu = zip(*local_energy_mu)\n",
    "    energy = sum(local_energy)*step\n",
    "    energies.append(energy)\n",
    "    psi_next = [curr*(1 - time_step*mu) for curr, mu in zip(psi_curr, local_mu)]\n",
    "    normalization_const = np.sqrt(sum(next*next for next in psi_next)*step)\n",
    "    psi_curr = np.array(psi_next)/normalization_const"
   ]
  },
  {
   "cell_type": "code",
   "execution_count": 12,
   "id": "9ce453e2",
   "metadata": {},
   "outputs": [
    {
     "data": {
      "text/plain": [
       "<matplotlib.collections.PathCollection at 0xffdf67257d70>"
      ]
     },
     "execution_count": 12,
     "metadata": {},
     "output_type": "execute_result"
    },
    {
     "data": {
      "image/png": "[encoded data removed]",
      "text/plain": [
       "<Figure size 640x480 with 1 Axes>"
      ]
     },
     "metadata": {},
     "output_type": "display_data"
    }
   ],
   "source": [
    "plt.scatter(range(iterations), energies)"
   ]
  }
 ],
 "metadata": {
  "kernelspec": {
   "display_name": "mqn",
   "language": "python",
   "name": "python3"
  },
  "language_info": {
   "codemirror_mode": {
    "name": "ipython",
    "version": 3
   },
   "file_extension": ".py",
   "mimetype": "text/x-python",
   "name": "python",
   "nbconvert_exporter": "python",
   "pygments_lexer": "ipython3",
   "version": "3.12.9"
  }
 },
 "nbformat": 4,
 "nbformat_minor": 5
}
