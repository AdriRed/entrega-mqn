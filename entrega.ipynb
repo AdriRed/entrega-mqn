{
 "cells": [
  {
   "cell_type": "markdown",
   "id": "23126238",
   "metadata": {},
   "source": [
    "# Entrega 1\n",
    "#### ManyBody - Claudia Garcia, Adrià Rojo - Abril 2025"
   ]
  },
  {
   "cell_type": "code",
   "execution_count": 46,
   "id": "df0ecb5c",
   "metadata": {},
   "outputs": [],
   "source": [
    "import numpy as np\n",
    "import numpy.typing as npt\n",
    "import sympy as sp\n",
    "import scipy.interpolate as scint\n",
    "import matplotlib.pyplot as plt\n",
    "from tqdm import tqdm\n",
    "from IPython.display import display, Math\n",
    "\n",
    "def second_derivative(fun: npt.ArrayLike, h: float) -> npt.ArrayLike:\n",
    "    first = np.gradient(fun, h)\n",
    "    return np.gradient(first, h)\n",
    "\n",
    "def final_properties(psi, step, rs, r2s, interaction):\n",
    "    psi_dx2 = second_derivative(psi, step)\n",
    "\n",
    "    local_values = [\n",
    "        (r2*final*final, #acc radius\n",
    "            final*dx2, # kin energy\n",
    "            r2*final*final, # armonic\n",
    "            r2*(final/r)**4 if r != 0 else 0, # interaction energy\n",
    "            mu*final*final, # \n",
    "            r2/2 + interaction * (final/r)**2 if r != 0 else 0,\n",
    "            (final/r)**2 if r != 0 else 0\n",
    "        )\n",
    "        for r, r2, final, dx2, mu in zip(rs, r2s, psi, psi_dx2, local_mu)\n",
    "    ]\n",
    "\n",
    "    local_accumulted_radius, local_kinetic_energy, local_armonic_potential, local_interaction_energy, local_average_chem_potential, particle_potential, density =\\\n",
    "        zip(*local_values)\n",
    "\n",
    "    squared_radius = sum(local_accumulted_radius)*step\n",
    "    mean_squared_radius = np.sqrt(squared_radius)\n",
    "    average_chem_potential = sum(local_average_chem_potential)*step\n",
    "    kinetic_energy = -sum(local_kinetic_energy)*step/2\n",
    "    armonic_potential = sum(local_armonic_potential)*step/2\n",
    "    interaction_energy = sum(local_interaction_energy)*step*interaction/2\n",
    "\n",
    "    return {\n",
    "        \"r^2\": squared_radius,\n",
    "        \"<r^2>\": mean_squared_radius,\n",
    "        \"avg mu\": average_chem_potential,\n",
    "        \"kin energy\": kinetic_energy,\n",
    "        \"armonic pot\" : armonic_potential,\n",
    "        \"interac energy\": interaction_energy\n",
    "    }\n",
    "\n",
    "def initial_values(scattering_length, width, step, atom_numbers, alpha, cvar):\n",
    "    alpha2 = alpha*alpha\n",
    "    cvar = 2 * np.power(alpha, 3/2)/ np.power(np.pi, 1/4)\n",
    "    rs = np.array([i * step for i in range(width)])\n",
    "    r2s = rs**2\n",
    "    psi = np.array([cvar*r*np.exp(-0.5*alpha2*r2) for (r, r2) in zip(rs, r2s)])\n",
    "    return alpha2, cvar, scattering_length*atom_numbers, atom_numbers*scattering_length*scattering_length*scattering_length,\\\n",
    "        rs, r2s, psi\n",
    "    \n",
    "def compute_wavelength(psi, iterations, step, interaction, time_step):\n",
    "    psi_curr = psi\n",
    "    for i in tqdm(range(iterations)):\n",
    "        psi_dx2 = second_derivative(psi_curr, step)\n",
    "        # calculo de energia y mu local\n",
    "        local_energy_mu = [(-(curr*dx2+r2*curr**2+interaction*r2*(curr/r)**4)/2 if r != 0 else 0, \n",
    "                            ((-dx2/curr) + r2 + interaction*(curr/r)**2)/2 if r != 0 else 0)\n",
    "                        for r, r2, curr, dx2 in zip(rs, r2s, psi_curr, psi_dx2)]\n",
    "        # deshacer la lista de tuplas (energía y mu de cada distancia) \n",
    "        # en una tupla de listas (lista de todas las energías y lista de todas las mus)\n",
    "        local_energy, local_mu = zip(*local_energy_mu)\n",
    "        energy = sum(local_energy)*step\n",
    "        psi_next = [curr*(1 - time_step*mu) for curr, mu in zip(psi_curr, local_mu)]\n",
    "        normalization_const = np.sqrt(sum(next*next for next in psi_next)*step)\n",
    "        psi_curr = np.array(psi_next)/normalization_const\n",
    "    \n",
    "    return (psi_curr, local_mu)"
   ]
  },
  {
   "cell_type": "code",
   "execution_count": 45,
   "id": "79b9b7b4",
   "metadata": {},
   "outputs": [
    {
     "name": "stderr",
     "output_type": "stream",
     "text": [
      "100%|██████████| 40000/40000 [00:19<00:00, 2085.46it/s]\n"
     ]
    }
   ],
   "source": [
    "\n",
    "scattering_length, width, step, atom_numbers, time_step, alpha, iterations = \\\n",
    "    0.00433, 400, 0.015, 10000, 0.0001, 0.8, 40000\n",
    "    # 0.00433, 700, 0.015, 1000000, 0.00005, 0.3, 70000\n",
    "    # 0.00433, 600, 0.015, 100000, 0.0001, 0.4, 50000\n",
    "    # 0.00433, 400, 0.020, 1000, 0.0001, 0.5, 50000\n",
    "    # 0.00433, 300, 0.020, 100, 0.0001, 0.5, 50000  \n",
    "\n",
    "alpha2, cvar, interaction, density_param, rs, r2s, psi = \\\n",
    "    initial_values(scattering_length, width, step, atom_numbers, alpha)\n",
    "\n",
    "psi, local_mu = compute_wavelength(psi, iterations, step, interaction, time_step)"
   ]
  },
  {
   "cell_type": "code",
   "execution_count": null,
   "id": "9ce453e2",
   "metadata": {},
   "outputs": [],
   "source": [
    "\n"
   ]
  }
 ],
 "metadata": {
  "kernelspec": {
   "display_name": "mqn",
   "language": "python",
   "name": "python3"
  },
  "language_info": {
   "codemirror_mode": {
    "name": "ipython",
    "version": 3
   },
   "file_extension": ".py",
   "mimetype": "text/x-python",
   "name": "python",
   "nbconvert_exporter": "python",
   "pygments_lexer": "ipython3",
   "version": "3.12.9"
  }
 },
 "nbformat": 4,
 "nbformat_minor": 5
}
