{
 "cells": [
  {
   "cell_type": "markdown",
   "metadata": {},
   "source": [
    "La descripció teòrica dells recents experiments sobre la condensació Bose-Einstein (BEC) es basen en l'equació de Gross-Pitaevskii (GP). Els àtoms estan confinats dins un camp magnètic, els efectes del qual estan ben descrits per un potencial harmònic. \n",
    "Aquí tractem un condensat de $^{87}Rb$. Assumim que tots els àtoms són al condensat, $\\psi(\\vec{r})$ normalitzada tal que:\n",
    "$$\\int \\lvert\\psi(\\vec{r})\\rvert^2 \\, d \\vec{r} = N$$\n",
    "En unitats d'oscil·lador harmònic ($\\hbar\\omega$), l'equació GP és:\n",
    "$$\\left[-\\frac{1}{2} \\nabla^2 + \\frac{1}{2} r_1^2 + 4\\pi\\bar{a}_s N\\lvert\\bar{\\psi}(\\vec{r}_1)\\rvert^2\\right] \\bar{\\psi}(\\vec{r}_1) = \\bar{\\mu}\\bar{\\psi}(\\vec{r}_1)$$\n",
    "on $\\mu$ és el potencial químic, $N$ el nombre de partícules i $\\bar{a}_s$ la longitud de dispersió d'ona s. En aquest cas, $\\bar{\\psi}(\\vec{r}_1)$ està normalitzada a 1."
   ]
  },
  {
   "cell_type": "code",
   "execution_count": null,
   "metadata": {},
   "outputs": [
    {
     "name": "stdout",
     "output_type": "stream",
     "text": [
      "[[4.33e-03 7.00e+02 1.50e-02 1.00e+06 5.00e-05 3.00e-01 7.00e+04]\n",
      " [4.33e-03 4.00e+02 1.50e-02 1.00e+04 1.00e-04 8.00e-01 4.00e+04]\n",
      " [4.33e-03 6.00e+02 1.50e-02 1.00e+05 1.00e-04 4.00e-01 5.00e+04]\n",
      " [4.33e-03 4.00e+02 2.00e-02 1.00e+03 1.00e-04 5.00e-01 5.00e+04]\n",
      " [4.33e-03 3.00e+02 2.00e-02 1.00e+02 1.00e-04 5.00e-01 5.00e+04]]\n"
     ]
    }
   ],
   "source": [
    "import matplotlib\n",
    "import numpy as np\n",
    "import matplotlib.pyplot as plt\n",
    "from tqdm import tqdm\n",
    "\n",
    "#----------------------------------------------------------\n",
    "# Definim les funcions necessàries per efectuar els càlculs\n",
    "#----------------------------------------------------------\n",
    "\n",
    "def segona_der(f, df, h, n): # Calcula la segona derivada fent servir diferències finites, pas h, n iteracions\n",
    "    df[0] = 0.0\n",
    "    # Punts interiors\n",
    "    for i in range(1, n-1):\n",
    "        df[i] = (f[i-1] + f[i+1] - 2.0*f[i]) / (h**2.0)\n",
    "    # A l'extrem:\n",
    "    df[n] = (f[n-1] - 2.0*f[n]) / (h**2.0)\n",
    "    return\n",
    "\n",
    "#----------------------------------------------------------\n",
    "# EXPLICACIÓ DE LES VARIABLES:\n",
    "# xr : coordenada radial\n",
    "# xmu : Potencial químic local\n",
    "# step : pas d'integració a l'espai r\n",
    "# npunts : Número de punts a la xarxa radial\n",
    "# psi : Funció d'ona actual\n",
    "# psider : Segona derivada de la funció d'ona\n",
    "# psiant : Funció d'ona a la iteració anterior\n",
    "# den : Densitat de partícules\n",
    "# u : Energia potencial total d'una\n",
    "# ene0 : Energia total\n",
    "# radius : Radi quadràtic mig\n",
    "# radius2 : Radi al quadrat\n",
    "# ekin : Energia cinètica\n",
    "# poth0 : Energia potencial harmònica\n",
    "# potself : Eenergia potencial d'interacció\n",
    "# chem : Potencial químic promig\n",
    "# xaver : Valor promig addicional\n",
    "# normden : Normalització de la densitat\n",
    "# as3n : Paràmetre de densitat\n",
    "#----------------------------------------------------------\n",
    "# Arxiu d'inputs\n",
    "inputs = np.loadtxt('grosspita.grau.dat', dtype=np.float64)\n",
    "print(inputs)\n",
    "\n",
    "psi = np.zeros([npunts, 1])\n",
    "xr = np.zeros([npunts, 1])\n",
    "# Configurem els paràmetres d'interacció\n",
    "cequ = a0 * npart  # si =0 es recupera el resultat de l'OH\n",
    "u = np.zeros([npunts, 1])\n",
    "den = np.zeros([npunts, 1])\n",
    "\n",
    "\n",
    "def grosspita(alpha, npunts, step, a0, npart, timestep, niter, psi, xr, cequ):\n",
    "    radius = 0.0\n",
    "    radius2 = 0.0\n",
    "    ekin = 0.0\n",
    "    poth0 = 0.0\n",
    "    potself = 0.0  \n",
    "    xaver = 0.0\n",
    "    normden = 0.0\n",
    "    as3n = npart * (a0**3.0)  \n",
    "    psinova = np.zeros([npunts, 1])\n",
    "    psiant = np.zeros([npunts, 1])\n",
    "    psider = np.ones([npunts, 1])\n",
    "    xmu = np.ones([npunts, 1])\n",
    "    energia = np.zeros([npunts, 1])\n",
    "    ene0 = 0.0\n",
    "    chem = 0.0\n",
    "    #----------------------------------------------------------\n",
    "    # Inicialitzem la nostra funció d'ona inicial (HO)\n",
    "    #----------------------------------------------------------\n",
    "    alpha2 = alpha**2.0\n",
    "    cvar = 2.0 * np.sqrt(alpha)**3.0 / np.sqrt(np.sqrt(np.pi))\n",
    "    xnorm = 0.0\n",
    "    for i in range(npunts):\n",
    "        if i != 0 :\n",
    "            xr[i] = step * (i-1)*1.0\n",
    "        xr2 = xr[i]**2.0\n",
    "        psiant[i] = cvar * xr[i] * np.exp(-0.5 * alpha2 * xr2)\n",
    "        psi[i] = psiant[i]\n",
    "\n",
    "\n",
    "    for it in tqdm(range(niter)):\n",
    "        segona_der(psi, psider, step, int(npunts)-1)   # Calculem el Laplacià    \n",
    "        for i in range(npunts): # Càlcul d'energia i potencial químic local\n",
    "            xr2 = xr[i]**2.0\n",
    "            if (psi[i] == 0.0):\n",
    "                xmu[i] = 0.0\n",
    "                energia[i] = 0.0\n",
    "            else:\n",
    "                # Contribucions a l'energia\n",
    "                #energia[i] = energia[i-1] - 0.5 * (psi[i]*psider[i] + xr2*(psi[i]**2.0) + cequ*xr2*((psi[i]/xr[i])**4.0))\n",
    "                # Potencial químic:\n",
    "                xmu[i] = -0.5*psider[i]/psi[i] + 0.5*xr2 + cequ*(psi[i]/xr[i])**2.0\n",
    "            # Evolució temporal de la funció d'ona\n",
    "            psinova[i] = psi[i] - timestep*xmu[i]*psi[i]\n",
    "            # Acumulació per a la normalització\n",
    "            xnorm = xnorm + (psinova[i]**2.0)\n",
    "        \n",
    "        # Normalització i actualització\n",
    "        xnorm = np.sqrt(xnorm * step)\n",
    "        #energia[i] = energia[i] * step\n",
    "        psi[i] = psinova[i] / xnorm\n",
    "    # Calculem les integrals necessàries\n",
    "    for i in range(1, npunts):\n",
    "        xr2 = xr[i]**2.0        \n",
    "        if ((xr[i] != 0.0) and (psi[i] != 0.0)):\n",
    "            radius = radius + xr2 * (psi[i]**2.0)\n",
    "            ekin = ekin + psi[i] * psider[i]\n",
    "            poth0 = poth0 + xr2 * (psi[i]**2.0)\n",
    "            potself = potself + xr2 * (psi[i] / xr[i])**4.0\n",
    "            chem = chem + xmu[i] * (psi[i]**2.0)\n",
    "            # Potencial i densitat monoparticular:\n",
    "            u[i] = 0.5 * xr2 + cequ * (psi[i] / xr[i])**2.0\n",
    "            den[i] = (psi[i] / xr[i])**2.0\n",
    "        # Normalitzacions:\n",
    "        normden = normden + den[i] * xr2\n",
    "        xaver = xaver + (psi[i]**2.0) * as3n * den[i]\n",
    "\n",
    "    # Normalitzem els resultats:\n",
    "    radius2 = radius * step\n",
    "    radius = np.sqrt(radius * step)\n",
    "    xaver = xaver * step\n",
    "    chem = chem * step \n",
    "    ekin = -0.5 * ekin * step \n",
    "    poth0 = 0.5 * poth0 * step \n",
    "    potself = 0.5 * potself * step * cequ\n",
    "    ene0 = ekin + poth0 + potself \n",
    "    print('energia:', ene0, 'chem:', chem)\n",
    "    return"
   ]
  },
  {
   "cell_type": "markdown",
   "metadata": {},
   "source": [
    "$a_0$) Fent servir el programa GP, comprovar que posant la interacció a 0 es recuperen els resultats per a l'oscil·lador harmònic (HO). Per què l'energia per partícula és igual al potencial químic?"
   ]
  },
  {
   "cell_type": "code",
   "execution_count": null,
   "metadata": {},
   "outputs": [
    {
     "name": "stderr",
     "output_type": "stream",
     "text": [
      "100%|██████████| 2000/2000 [00:24<00:00, 82.77it/s]\n"
     ]
    },
    {
     "name": "stdout",
     "output_type": "stream",
     "text": [
      "energia: [1.65186002] chem: [1.65186002]\n"
     ]
    },
    {
     "ename": "",
     "evalue": "",
     "output_type": "error",
     "traceback": [
      "\u001b[1;31mThe Kernel crashed while executing code in the current cell or a previous cell. \n",
      "\u001b[1;31mPlease review the code in the cell(s) to identify a possible cause of the failure. \n",
      "\u001b[1;31mClick <a href='https://aka.ms/vscodeJupyterKernelCrash'>here</a> for more info. \n",
      "\u001b[1;31mView Jupyter <a href='command:jupyter.viewOutput'>log</a> for further details."
     ]
    }
   ],
   "source": [
    "# Fem servir els valors de la segona dels paràmetres d'entrada\n",
    "alpha = inputs[1,5]\n",
    "npunts = int(inputs[1,1])\n",
    "step = inputs[1,2]\n",
    "a0 = inputs[1,0]    # Longitud de dispersió en unitats de l'oscil·lador harnònic\n",
    "npart = inputs[1,3] # Número de partícules\n",
    "timestep = inputs[1,4] # Pas temporal\n",
    "niter = int(inputs[1,6]) # Número d'iteracions\n",
    "grosspita(alpha, npunts, step, a0, npart, timestep, 2000, psi, xr, 0.0 )"
   ]
  },
  {
   "cell_type": "markdown",
   "metadata": {},
   "source": [
    "En aquest cas, en anunlar el terme d'interacció, el sistema recupera la interacció HO i l'equació GP queda:\n",
    "$$\\left[-\\frac{1}{2} \\nabla^2 + \\frac{1}{2} r_1^2 \\right] \\bar{\\psi}(\\vec{r}_1) = \\bar{\\mu}\\bar{\\psi}(\\vec{r}_1)$$\n",
    "Per tant, el potencial químic es l'autoenergia de l'aestat en aquest cas.\n",
    "\n",
    "Teòricament, el resultats per a l'energia i el potencial químic en una trampa harmònica 3d és $\\epsilon = \\frac{3}{2}\\hbar\\omega$. En el nostre càlcul, fet amb 10000 nuclis i amb 40000 iteracions, obtenim (en unitats d'HO):\n",
    "$$\\epsilon = \\bar{\\mu} = 1.65 \\approx \\frac{3}{2}$$\n",
    "Que és un resultat prou proper al teòric."
   ]
  }
 ],
 "metadata": {
  "kernelspec": {
   "display_name": "mqn",
   "language": "python",
   "name": "python3"
  },
  "language_info": {
   "codemirror_mode": {
    "name": "ipython",
    "version": 3
   },
   "file_extension": ".py",
   "mimetype": "text/x-python",
   "name": "python",
   "nbconvert_exporter": "python",
   "pygments_lexer": "ipython3",
   "version": "3.13.2"
  }
 },
 "nbformat": 4,
 "nbformat_minor": 2
}
