{
 "cells": [
  {
   "cell_type": "markdown",
   "id": "f4f0858a",
   "metadata": {},
   "source": [
    "# Assigment - Weakly interacting and confined bosons at low density\n",
    "\n",
    "### _Authors:_ Clàudia Garcia and Adrià Rojo\n",
    "\n",
    "L'equació de Gross-Pitaevskii (GP) ens permet descriure els experiments de condensats de Bose-Einstein dins del marc tèoric. \n",
    "\n",
    "En aquest exemple, considerem N àtoms de $^{87}\\text{Rb}$, on tots els àtoms estàn confinats per un camp magnètic, i tots els efectes d'aquest es descriuen bé per un potencial harmònic. També considerem que $\\Psi(\\vec{r})$ està normalitzat a la unitat. L'equació GP és la següent:\n",
    "\n",
    "$$\n",
    "\\left[-\\frac{1}{2} \\nabla^2+\\frac{1}{2} r_1^2+4 \\pi \\bar{a}_s N\\left|\\bar{\\Psi}\\left(\\vec{r}_1\\right)\\right|^2\\right] \\bar{\\Psi}\\left(\\vec{r}_1\\right)=\\bar{\\mu} \\bar{\\Psi}\\left(\\vec{r}_1\\right),\n",
    "$$\n",
    "\n",
    "on $\\mu$ és el potencial químic, $N$ el nombre de partícules i $\\bar{a}_s$ és la longitud de $s$-wave scattering. L'equació està escrita en unitats de oscil·lador harmònic.\n",
    "\n",
    "Començarem per precomputar valors de distància i variables de la simulació i la funció d'ona inicial i fer tots els `imports`. Per la segona derivada utilitzarem la funció `gradient` de `numpy`. Utilitzarem `tqdm` per iterar el bucle i tenir una estimació del temps d'execució. El codi utilitza de forma extensiva generadors, per evitar l'anidament en un segon bucle `for`. "
   ]
  },
  {
   "cell_type": "code",
   "execution_count": 1,
   "id": "1517188b",
   "metadata": {},
   "outputs": [],
   "source": [
    "import numpy as np\n",
    "import numpy.typing as npt\n",
    "from tqdm import tqdm\n",
    "from IPython.display import display, Math, Markdown, clear_output\n",
    "import typing as t\n",
    "\n",
    "def second_derivative(fun: npt.ArrayLike, h: float) -> npt.ArrayLike:\n",
    "    first = np.gradient(fun, h)\n",
    "    return np.gradient(first, h)\n",
    "\n",
    "def initial_values(scattering_length: float, width:float, step:float, atom_numbers:int, alpha:float) -> \\\n",
    "    t.Tuple[float, float, float, float, npt.ArrayLike, npt.ArrayLike, npt.ArrayLike]:\n",
    "    alpha2 = alpha*alpha\n",
    "    cvar = 2 * np.power(alpha, 3/2)/ np.power(np.pi, 1/4)\n",
    "    rs = np.array([i * step for i in range(width)])\n",
    "    r2s = rs**2\n",
    "    psi = np.array([cvar*r*np.exp(-0.5*alpha2*r2) for (r, r2) in zip(rs, r2s)])\n",
    "    interaction = scattering_length*atom_numbers #4*pi*a_s*N \n",
    "    density_param = atom_numbers*scattering_length**3\n",
    "    return alpha2, cvar, interaction, density_param, rs, r2s, psi\n"
   ]
  },
  {
   "cell_type": "markdown",
   "id": "5781d702",
   "metadata": {},
   "source": [
    "La funció `compute_wavelength` farà l'evolució de la funció d'ona utilitzant l'equació de Gross-Pitaevskii depenent del temps i utilitzant l'aproximació de Bogoliuvob. També calcularà el potencial químic local, ja que ens servirà per fer la normalització a cada pas.\n",
    "\n",
    "$$i\\hbar\\frac{\\partial{\\psi(\\vec r, t)}}{\\partial{t}} = \\frac{\\hbar^2}{2m}\\nabla^2\\psi(\\vec r, t)+V_\\text{ext}\\psi(\\vec r, t) + g\\left|\\psi(\\vec r, t)\\right|^2\\psi(\\vec r, t) \\qquad\n",
    "\\mu(r) = \\frac{-\\frac{1}{2}\\frac{d^2\\psi}{dr^2} + \\frac{1}{2}r^2\\psi(r) + g\\frac{|\\psi(r)|^2}{r^2}\\psi(r)}{\\psi(r)} $$\n",
    "\n",
    "La funció `final_properties` calcularà propietats finals de la simulació (no se podia saber), calculant els seguents valors:\n",
    "\n",
    "$$ \\langle r^2 \\rangle = \\int^\\infty_0{r^2\\left| \\psi(r_1)\\right|^2 dr_1} \\approx \\sum^\\infty_{r_i = 0}{r_i^2\\left| \\psi(r_i)\\right|^2}\\Delta r \\qquad\n",
    "\\langle T \\rangle = -\\frac{1}{2}\\int_0^\\infty \\psi(r) \\frac{d^2\\psi}{dr^2} \\, dr \\approx -\\frac{1}{2}\\sum_i \\psi(r_i) \\left(\\frac{d^2\\psi}{dr^2}\\right)_i \\Delta r\\\\\n",
    "\\langle V_{\\text{harm}} \\rangle = \\frac{1}{2}\\int_0^\\infty r^2 |\\psi(r)|^2 \\, dr \\approx \\frac{1}{2}\\sum_i r_i^2 |\\psi(r_i)|^2 \\Delta r \\qquad\n",
    "\\langle V_{\\text{int}} \\rangle = \\frac{g}{2}\\int_0^\\infty \\frac{|\\psi(r)|^4}{r^2} r^2 \\, dr \\approx \\frac{g}{2}\\sum_i r_i^2 \\left(\\frac{|\\psi(r_i)|}{r_i}\\right)^4 \\Delta r \\\\\n",
    "\\langle \\mu \\rangle = \\int_0^\\infty \\mu(r) |\\psi(r)|^2 \\, dr \\approx \\sum_i \\mu(r_i) |\\psi(r_i)|^2 \\Delta r \\\\\n",
    "E_{\\text{total}} = \\langle T \\rangle + \\langle V_{\\text{harm}} \\rangle + \\langle V_{\\text{int}} \\rangle \\qquad\n",
    "n(r) = \\begin{cases} \n",
    "\\left(\\frac{\\psi(r)}{r}\\right)^2 & \\text{si } r \\neq 0 \\\\\n",
    "0 & \\text{si } r = 0\n",
    "\\end{cases}$$"
   ]
  },
  {
   "cell_type": "code",
   "execution_count": 2,
   "id": "63db98d5",
   "metadata": {},
   "outputs": [],
   "source": [
    "def calc_local_mu(r: float, r2: float, curr: float, dx2: float, interaction: float) -> float:\n",
    "    return (-(dx2/curr if curr != 0 else 1)/2 + r2/2 + interaction*(curr/r if r != 0 else 1)**2) \n",
    "def calc_interaction_potential(r:float, r2: float, final: float, interaction: float) -> float:\n",
    "    return r2*(final/r if r != 0 else 1)**4*interaction/2\n",
    "\n",
    "calc_local_mu, calc_interaction_potential = (np.vectorize(calc_local_mu), np.vectorize(calc_interaction_potential))\n",
    "\n",
    "def final_properties(psi: npt.ArrayLike, local_mu: npt.ArrayLike, step: float, rs: npt.ArrayLike, r2s:npt.ArrayLike, interaction: float) -> \\\n",
    "    t.Dict[str, float]:\n",
    "    psi_dx2 = second_derivative(psi, step)\n",
    "\n",
    "    squared_radius = np.sum(r2s*psi*psi)*step\n",
    "    avg_mu = np.sum(local_mu*psi*psi)*step\n",
    "    kinetic_energy = -np.sum(psi*psi_dx2/2)*step\n",
    "    harmonic_potential = np.sum(r2s*psi*psi/2)*step\n",
    "    g_energy = np.sum(calc_interaction_potential(rs, r2s, psi, interaction))*step\n",
    "    total_energy = kinetic_energy + harmonic_potential + g_energy\n",
    "    return {\n",
    "        \"r^2\": squared_radius,\n",
    "        \"avg mu\": avg_mu,\n",
    "        \"kin energy\": kinetic_energy,\n",
    "        \"armonic pot\" : harmonic_potential,\n",
    "        \"interac energy\": g_energy,\n",
    "        \"total energy\": total_energy,\n",
    "    }\n",
    "\n",
    "def compute_wavelength(rs: npt.ArrayLike, r2s: npt.ArrayLike, psi: npt.ArrayLike, iterations: int, step: float, interaction: float, time_step: float, label: str=None) -> \\\n",
    "        t.Tuple[npt.ArrayLike, npt.ArrayLike]:\n",
    "    psi_curr = psi\n",
    "    for i in tqdm(range(iterations), desc=label):\n",
    "        psi_dx2 = second_derivative(psi_curr, step)\n",
    "        # calculo de energia y mu local\n",
    "        local_mu = calc_local_mu(rs, r2s, psi_curr, psi_dx2, interaction)\n",
    "        psi_next = psi_curr*(1 - time_step*local_mu)\n",
    "        normalization_const = np.sqrt(np.sum(psi_next*psi_next)*step)\n",
    "        psi_curr = psi_next/normalization_const\n",
    "\n",
    "    local_mu = calc_local_mu(rs, r2s, psi_curr, psi_dx2, interaction)\n",
    "\n",
    "    return (psi_curr, local_mu)"
   ]
  },
  {
   "cell_type": "markdown",
   "id": "e5a92154",
   "metadata": {},
   "source": [
    "### a0) Terme d'interacció nul.\n",
    "\n",
    "Si considerem el terme d'interacció nul (en el nostre programa la variable `interaction`), l'equació GP queda com: \n",
    "\n",
    "$$\n",
    "\\left[-\\frac{1}{2} \\nabla^2+\\frac{1}{2} r_1^2\\right] \\bar{\\Psi}\\left(\\vec{r}_1\\right)=\\bar{\\mu} \\bar{\\Psi}\\left(\\vec{r}_1\\right),\n",
    "$$\n",
    "\n",
    "Que com veiem\n",
    "$\n",
    "H_{o.h} = -\\frac{1}{2} \\nabla^2+\\frac{1}{2} r_1^2,\n",
    "$\n",
    " coincideix amb l'expressió de l'hamiltonià de l'oscil·lador harmònic en tres dimensions, per tant, tenim que: \n",
    "$H_{o.h} \\bar{\\Psi}\\left(\\vec{r}_1\\right) = \\varepsilon \\bar{\\Psi}\\left(\\vec{r}_1\\right)$ i comparant ambdós equacions obtenim que $\\bar{\\mu} = \\varepsilon$, és a dir, el potencial químic coincideix amb l'energia per partícula ($ \\varepsilon = E/N$)."
   ]
  },
  {
   "cell_type": "code",
   "execution_count": 3,
   "id": "2817fb84",
   "metadata": {},
   "outputs": [
    {
     "name": "stderr",
     "output_type": "stream",
     "text": [
      "100%|██████████| 70000/70000 [00:22<00:00, 3069.36it/s]\n"
     ]
    },
    {
     "data": {
      "text/latex": [
       "$\\displaystyle \\varepsilon = 1.49986, \\mu = 1.49986$"
      ],
      "text/plain": [
       "<IPython.core.display.Math object>"
      ]
     },
     "metadata": {},
     "output_type": "display_data"
    },
    {
     "data": {
      "text/latex": [
       "$\\displaystyle \\varepsilon_{kin} = 0.75000, \\varepsilon_{o.h} = 0.74986, \\varepsilon_{int} = 0.00000$"
      ],
      "text/plain": [
       "<IPython.core.display.Math object>"
      ]
     },
     "metadata": {},
     "output_type": "display_data"
    }
   ],
   "source": [
    "scattering_length, width,  step, atom_numbers, time_step, alpha, iterations = \\\n",
    "          0.00433,  400,  0.015,        10000,    0.0001,   0.8,      70000\n",
    "\n",
    "alpha2, cvar, interaction, density_param, rs, r2s, psi = \\\n",
    "    initial_values(scattering_length, width, step, atom_numbers, alpha)\n",
    "interaction = 0 # sobreescribimos el valor\n",
    "\n",
    "final, local_mu = compute_wavelength(rs, r2s, psi, iterations,step, interaction,time_step)\n",
    "\n",
    "properties = final_properties(final, local_mu, step, rs, r2s, interaction)\n",
    "\n",
    "display(Math(\"\\\\varepsilon = {total energy:.5f}, \\\\mu = {avg mu:.5f}\".format(**properties)))\n",
    "display(Math(\"\\\\varepsilon_{{kin}} = {kin energy:.5f}, \\\\varepsilon_{{o.h}} = {armonic pot:.5f}, \\\\varepsilon_{{int}} = {interac energy:.5f}\".format(**properties)))"
   ]
  },
  {
   "cell_type": "markdown",
   "id": "6bf4cbc4",
   "metadata": {},
   "source": [
    "Podem observar que tant l'energia cinética com la de l'oscil·lador harmònic es reparteixen de forma igual l'energia, complint d'aquesta forma el teorema del virial per aquests casos. Evidentment, el terme d'energia d'interacció és igual a zero."
   ]
  },
  {
   "cell_type": "markdown",
   "id": "10c893de",
   "metadata": {},
   "source": [
    "### a) Resolució de l'equació GP per a diferents $N$\n",
    "\n",
    "Utilizant $\\bar{a}_s = 0.00433$ resolem l'equació GP per diferents nombres de partícules ($N$) i obtenim els següents resultats per $\\mu$ i les següents energies per partícules: total, cinètica, de l'oscil·lador harmònic i d'interacció.\n",
    "\n"
   ]
  },
  {
   "cell_type": "code",
   "execution_count": 4,
   "id": "752f6f99",
   "metadata": {},
   "outputs": [
    {
     "data": {
      "text/markdown": [
       "| $N$   | $\\bar{\\mu}$ | $\\varepsilon$ | $\\varepsilon_{kin}$ | $\\varepsilon_{o.h}$ | $\\varepsilon_{int}$ |\n",
       "|:-----:|:-----------:|:---:|:---------:|:---------:|:---------:|\n",
       "|$10^{ 2 }$|1.78745|1.65186|0.65646|0.85981|0.13559|\n",
       "|$10^{ 3 }$|3.04451|2.42463|0.43750|1.36726|0.61988|\n",
       "|$10^{ 4 }$|6.86585|5.04152|0.24035|2.97683|1.82433|\n",
       "|$10^{ 5 }$|16.98608|12.12819|0.15988|7.11042|4.85789|\n",
       "|$10^{ 6 }$|71.15105|40.78534|0.01293|10.40670|30.36571|\n",
       "|$10^{ 7 }$|12829627962.96297|6414816481.48162|1666.66671|0.00011|6414814814.81479|\n"
      ],
      "text/plain": [
       "<IPython.core.display.Markdown object>"
      ]
     },
     "metadata": {},
     "output_type": "display_data"
    }
   ],
   "source": [
    "markdown_table = \"| $N$   | $\\\\bar{\\\\mu}$ | $\\\\varepsilon$ | $\\\\varepsilon_{kin}$ | $\\\\varepsilon_{o.h}$ | $\\\\varepsilon_{int}$ |\\n\" +\\\n",
    "                 \"|:-----:|:-----------:|:---:|:---------:|:---------:|:---------:|\\n\"\n",
    "\n",
    "display(Markdown(markdown_table))\n",
    "\n",
    "normal_props = {}\n",
    "\n",
    "for exponent in range(2, 8):\n",
    "    particles = int(10**exponent)\n",
    "    scattering_length, width,   step, atom_numbers, time_step, alpha, iterations = \\\n",
    "              0.00433,   400,  0.015,    particles,    0.0001,   0.8,      40000\n",
    "\n",
    "    alpha2, cvar, interaction, density_param, rs, r2s, psi = \\\n",
    "        initial_values(scattering_length, width, step, atom_numbers, alpha)\n",
    "    final, local_mu = compute_wavelength(rs, r2s, psi, iterations,step, interaction,time_step, label=\"N = 10^{0:02d}\".format(exponent))\n",
    "\n",
    "    properties = final_properties(final, local_mu, step, rs, r2s, interaction)\n",
    "    normal_props[exponent] = properties\n",
    "    markdown_table += \"|$10^{{ {exponent} }}$|{avg mu:.5f}|{total energy:.5f}|{kin energy:.5f}|{armonic pot:.5f}|{interac energy:.5f}|\\n\".format(exponent=exponent, **properties)\n",
    "    clear_output(True)\n",
    "    display(Markdown(markdown_table))\n",
    "\n",
    "clear_output(True)\n",
    "display(Markdown(markdown_table))\n"
   ]
  },
  {
   "cell_type": "markdown",
   "id": "0e146349",
   "metadata": {},
   "source": [
    "Observem que l'energia d'interacció augmenta amb la quantitat de partícules i en canvi l'energía cinética disminueix, estant més d'acord cada cop amb l'aproximació de Thomas-Fermi. Veiem que a partir de $N=10^7$ hi ha un error d'_overflow_."
   ]
  },
  {
   "cell_type": "markdown",
   "id": "8c70c722",
   "metadata": {},
   "source": [
    "### b) Aproximació de Thomas-Fermi.\n",
    " En el marc d'aquesta aproximació el terme cinètic es pot considerar nul i l'equació GP queda com: \n",
    "\n",
    "$$\n",
    "\\left[\\frac{1}{2} r_1^2+4 \\pi \\bar{a}_s N\\left|\\bar{\\Psi}\\left(\\vec{r}_1\\right)\\right|^2\\right] \\bar{\\Psi}\\left(\\vec{r}_1\\right)=\\bar{\\mu} \\bar{\\Psi}\\left(\\vec{r}_1\\right)\n",
    "$$\n",
    "\n",
    "Eliminant el terme $\\nabla^2$ (`second_derivative` al codi) i canviant la funció d'evolució de funció d'ona `compute_wavelength_TF`:"
   ]
  },
  {
   "cell_type": "code",
   "execution_count": 5,
   "id": "2baa168e",
   "metadata": {},
   "outputs": [],
   "source": [
    "def calc_local_mu_TF(r: float, r2: float, curr: float) -> float:\n",
    "    return r2/2 + interaction*(curr/r if r != 0 else 1)**2\n",
    "calc_local_mu_TF = np.vectorize(calc_local_mu_TF)\n",
    "\n",
    "def compute_wavelength_TF(rs: npt.ArrayLike, r2s: npt.ArrayLike, psi: npt.ArrayLike, iterations: int, step: float, interaction: float, time_step: float, label: str=None) -> \\\n",
    "        t.Tuple[npt.ArrayLike, npt.ArrayLike]:\n",
    "    psi_curr = psi\n",
    "    for i in tqdm(range(iterations), desc=label):\n",
    "        # calculo de energia y mu local\n",
    "        local_mu = calc_local_mu_TF(rs, r2s, psi_curr)\n",
    "        psi_next = psi_curr*(1 - time_step*local_mu)\n",
    "        normalization_const = np.sqrt(np.sum(psi_next*psi_next)*step)\n",
    "        psi_curr = psi_next/normalization_const\n",
    "        \n",
    "    local_mu = calc_local_mu_TF(rs, r2s, psi_curr)\n",
    "\n",
    "    return (psi_curr, local_mu)\n",
    "\n",
    "def final_properties_TF(psi: npt.ArrayLike, local_mu: npt.ArrayLike, step: float, rs: npt.ArrayLike, r2s:npt.ArrayLike, interaction: float) -> \\\n",
    "    t.Dict[str, float]:    \n",
    "\n",
    "    squared_radius = np.sum(r2s*psi*psi)*step\n",
    "    avg_mu = np.sum(local_mu*psi*psi)*step\n",
    "    harmonic_potential = np.sum(r2s*psi*psi/2)*step\n",
    "    g_energy = np.sum(calc_interaction_potential(rs, r2s, psi, interaction))*step\n",
    "\n",
    "    total_energy = harmonic_potential + g_energy\n",
    "    return {\n",
    "        \"r^2\": squared_radius,\n",
    "        \"avg mu\": avg_mu,\n",
    "        \"armonic pot\" : harmonic_potential,\n",
    "        \"interac energy\": g_energy,\n",
    "        \"total energy\": total_energy,\n",
    "    }"
   ]
  },
  {
   "cell_type": "code",
   "execution_count": 6,
   "id": "ce1433eb",
   "metadata": {},
   "outputs": [
    {
     "data": {
      "text/markdown": [
       "| $N$   | $\\bar{\\mu}$ | $\\varepsilon$ | $\\varepsilon_{o.h}$ | $\\varepsilon_{int}$ |\n",
       "|:-----:|:-----------:|:---:|:---------:|:---------:|\n",
       "|$10^{ 2 }$|1.04313|0.75976|0.47639|0.28337|\n",
       "|$10^{ 3 }$|2.64697|1.89705|1.14712|0.74992|\n",
       "|$10^{ 4 }$|6.67041|4.76301|2.85560|1.90741|\n",
       "|$10^{ 5 }$|16.77598|11.96460|7.15321|4.81138|\n",
       "|$10^{ 6 }$|71.13805|40.77241|10.40678|30.36564|\n",
       "|$10^{ 7 }$|12829629629.62974|6414814814.81493|0.00011|6414814814.81481|\n"
      ],
      "text/plain": [
       "<IPython.core.display.Markdown object>"
      ]
     },
     "metadata": {},
     "output_type": "display_data"
    }
   ],
   "source": [
    "markdown_table = \"| $N$   | $\\\\bar{\\\\mu}$ | $\\\\varepsilon$ | $\\\\varepsilon_{o.h}$ | $\\\\varepsilon_{int}$ |\\n\" +\\\n",
    "                 \"|:-----:|:-----------:|:---:|:---------:|:---------:|\\n\"\n",
    "\n",
    "display(Markdown(markdown_table))\n",
    "tf_props = {}\n",
    "\n",
    "for exponent in range(2, 8):\n",
    "    particles = int(10**exponent)\n",
    "    scattering_length, width,   step, atom_numbers, time_step, alpha, iterations = \\\n",
    "              0.00433,   400,  0.015,    particles,    0.0001,   0.8,      40000\n",
    "    alpha2, cvar, interaction, density_param, rs, r2s, psi = \\\n",
    "        initial_values(scattering_length, width, step, atom_numbers, alpha)\n",
    "    final, local_mu = compute_wavelength_TF(rs, r2s, psi, iterations,step, interaction,time_step, label=\"N = 10^{0:02d}\".format(exponent))\n",
    "\n",
    "    properties = final_properties_TF(final, local_mu, step, rs, r2s, interaction)\n",
    "    tf_props[exponent] = properties\n",
    "    markdown_table += \"|$10^{{ {exponent} }}$|{avg mu:.5f}|{total energy:.5f}|{armonic pot:.5f}|{interac energy:.5f}|\\n\".format(exponent=exponent, **properties)\n",
    "    clear_output(True)\n",
    "    display(Markdown(markdown_table))\n",
    "\n",
    "clear_output(True)\n",
    "display(Markdown(markdown_table))\n"
   ]
  },
  {
   "cell_type": "code",
   "execution_count": 7,
   "id": "48e70b9d",
   "metadata": {},
   "outputs": [
    {
     "data": {
      "text/markdown": [
       "| $N$   | $\\overline{\\mu}$ | $\\overline\\mu_{TF}$ | $\\%_{\\overline\\mu}$ | ${\\varepsilon}$ | ${\\varepsilon_{TF}}$ | $\\%_{\\varepsilon}$ |\n",
       "|:-:|:-----------:|:---:|:---------:|:---------:|:---------:|:---------:|\n",
       "|$10^{2}$|1.78745|1.04313|41.64130|1.65186|0.75976|54.00562|\n",
       "|$10^{3}$|3.04451|2.64697|13.05759|2.42463|1.89705|21.75952|\n",
       "|$10^{4}$|6.86585|6.67041|2.84647|5.04152|4.76301|5.52430|\n",
       "|$10^{5}$|16.98608|16.77598|1.23690|12.12819|11.96460|1.34890|\n",
       "|$10^{6}$|71.15105|71.13805|0.01827|40.78534|40.77241|0.03169|\n"
      ],
      "text/plain": [
       "<IPython.core.display.Markdown object>"
      ]
     },
     "metadata": {},
     "output_type": "display_data"
    }
   ],
   "source": [
    "markdown_table = r\"| $N$   | $\\overline{\\mu}$ | $\\overline\\mu_{TF}$ | $\\%_{\\overline\\mu}$ | ${\\varepsilon}$ | ${\\varepsilon_{TF}}$ | $\\%_{\\varepsilon}$ |\" +\\\n",
    "                 \"\\n|:-:|:-----------:|:---:|:---------:|:---------:|:---------:|:---------:|\\n\"\n",
    "\n",
    "for i in range(2, 7):\n",
    "    normal = normal_props[i]\n",
    "    tf = tf_props[i]\n",
    "    mu_diff = abs(tf[\"avg mu\"] - normal[\"avg mu\"])/normal[\"avg mu\"]*100\n",
    "    epsilon_diff = abs(tf[\"total energy\"] - normal[\"total energy\"])/normal[\"total energy\"]*100\n",
    "\n",
    "    markdown_table += \"|$10^{{{0}}}$|{1:.5f}|{2:.5f}|{3:.5f}|{4:.5f}|{5:.5f}|{6:.5f}|\\n\".format(i, normal[\"avg mu\"], tf[\"avg mu\"], mu_diff, \\\n",
    "                                                                                                   normal[\"total energy\"], tf[\"total energy\"], epsilon_diff)\n",
    "    \n",
    "display(Markdown(markdown_table))"
   ]
  },
  {
   "cell_type": "markdown",
   "id": "eb2db83f",
   "metadata": {},
   "source": [
    "### c) Plots de la de densitat $\\rho(r_1)$ per $N = 1000$ i $N = 100000$. \n",
    "\n",
    "Compararem els resultats per l'equació GP i per aquesta en l'aproximació de TF. \n",
    "\n",
    "La densitat $\\rho(r_1)$ està normalitzada com: $\\int dr_1 r_1^2 \\rho(r_1)$\n",
    "\n",
    "En el cas de l'aproximació TF tenim la següent expressió per la densitat: \n",
    "$$\n",
    "\\rho(r_1) = \\frac{1}{4 \\pi N \\bar{a}_s} \\cdot \\left( \\bar{\\mu} - \\frac{1}{2}r_1^2 \\right)\n",
    "$$"
   ]
  },
  {
   "cell_type": "code",
   "execution_count": 10,
   "id": "06ec06f6",
   "metadata": {},
   "outputs": [
    {
     "name": "stderr",
     "output_type": "stream",
     "text": [
      "GP N = 10^3:   0%|          | 0/40000 [00:00<?, ?it/s]"
     ]
    },
    {
     "name": "stderr",
     "output_type": "stream",
     "text": [
      "GP N = 10^3: 100%|██████████| 40000/40000 [00:12<00:00, 3148.82it/s]\n",
      "TF N = 10^3: 100%|██████████| 40000/40000 [00:07<00:00, 5116.87it/s]\n",
      "GP N = 10^5: 100%|██████████| 40000/40000 [00:12<00:00, 3193.96it/s]\n",
      "TF N = 10^5: 100%|██████████| 40000/40000 [00:07<00:00, 5132.09it/s]\n"
     ]
    },
    {
     "data": {
      "image/png": "[encoded data removed]",
      "text/plain": [
       "<Figure size 640x480 with 1 Axes>"
      ]
     },
     "metadata": {},
     "output_type": "display_data"
    }
   ],
   "source": [
    "import matplotlib.pyplot as plt\n",
    "fig, ax = plt.subplots()\n",
    "\n",
    "scattering_length, width,   step, atom_numbers, time_step, alpha, iterations = \\\n",
    "            0.00433,   400,  0.015,    0,    0.0001,   0.8,      40000\n",
    "\n",
    "for exponent in [3, 5]:\n",
    "    atom_numbers = int(10**exponent)\n",
    "    alpha2, cvar, interaction, density_param, rs, r2s, psi = \\\n",
    "        initial_values(scattering_length, width, step, atom_numbers, alpha)\n",
    "    final, local_mu = compute_wavelength(rs, r2s, psi, iterations,step, interaction,time_step, label=\"GP N = 10^{0:1d}\".format(exponent))\n",
    "    ax.plot(rs, final*final, label=f\"GP N=10^{exponent}\")\n",
    "    final, local_mu = compute_wavelength_TF(rs, r2s, psi, iterations,step, interaction,time_step, label=\"TF N = 10^{0:1d}\".format(exponent))\n",
    "    ax.plot(rs, final*final, label=f\"TF N=10^{exponent}\")\n",
    "\n",
    "ax.grid()\n",
    "ax.legend()\n",
    "plt.show()\n"
   ]
  },
  {
   "cell_type": "markdown",
   "id": "b0c406c6",
   "metadata": {},
   "source": [
    "### d) Teorema del Virial per diferents valors de $N$\n",
    "\n",
    "Comprovarem que les solucions obtingudes de l'equació GP compleix el Teorema del Virial. \n",
    "\n",
    "El teorema del Virial en el marc de l'equació GP és de la forma: \n",
    "$$\n",
    "2\\varepsilon_{kin} - 2\\varepsilon_{o.h} + 3\\varepsilon_{int} = 0\n",
    "$$"
   ]
  },
  {
   "cell_type": "code",
   "execution_count": null,
   "id": "26ba1159",
   "metadata": {},
   "outputs": [],
   "source": []
  },
  {
   "cell_type": "markdown",
   "id": "569110a6",
   "metadata": {},
   "source": [
    "| $N$   | $2\\varepsilon_{kin} - 2\\varepsilon_{o.h} + 3\\varepsilon_{int}$ | $- 2\\varepsilon_{o.h}^{TF} + 3\\varepsilon_{int}^{TF}$ | \n",
    "|:-----:|:-----------:|:-------------:|\n",
    "|100    |             |     |\n",
    "|1000   |\n",
    "|10000  |\n",
    "|100000 |\n",
    "|1000000|\n",
    "\n",
    "comment behaviour..."
   ]
  }
 ],
 "metadata": {
  "kernelspec": {
   "display_name": "mqn",
   "language": "python",
   "name": "python3"
  },
  "language_info": {
   "codemirror_mode": {
    "name": "ipython",
    "version": 3
   },
   "file_extension": ".py",
   "mimetype": "text/x-python",
   "name": "python",
   "nbconvert_exporter": "python",
   "pygments_lexer": "ipython3",
   "version": "3.12.9"
  }
 },
 "nbformat": 4,
 "nbformat_minor": 5
}
